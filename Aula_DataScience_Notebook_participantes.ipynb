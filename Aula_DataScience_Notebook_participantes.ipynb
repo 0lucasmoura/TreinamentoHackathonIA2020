{
  "nbformat": 4,
  "nbformat_minor": 0,
  "metadata": {
    "colab": {
      "name": "Cópia de Aula DataScience - Notebook participantes.ipynb",
      "provenance": [],
      "private_outputs": true,
      "collapsed_sections": [],
      "toc_visible": true,
      "authorship_tag": "ABX9TyNnCCTFmWnYKPAu9D6FxNcL",
      "include_colab_link": true
    },
    "kernelspec": {
      "name": "python3",
      "display_name": "Python 3"
    }
  },
  "cells": [
    {
      "cell_type": "markdown",
      "metadata": {
        "id": "view-in-github",
        "colab_type": "text"
      },
      "source": [
        "<a href=\"https://colab.research.google.com/github/0lucasmoura/TreinamentoHackathonIA2020/blob/master/Aula_DataScience_Notebook_participantes.ipynb\" target=\"_parent\"><img src=\"https://colab.research.google.com/assets/colab-badge.svg\" alt=\"Open In Colab\"/></a>"
      ]
    },
    {
      "cell_type": "markdown",
      "metadata": {
        "id": "p62r7vGnbBec",
        "colab_type": "text"
      },
      "source": [
        "# Ferramentas para analise e visualização de dados"
      ]
    },
    {
      "cell_type": "markdown",
      "metadata": {
        "id": "60_qb14QbcX5",
        "colab_type": "text"
      },
      "source": [
        "Importando ferramentas!"
      ]
    },
    {
      "cell_type": "code",
      "metadata": {
        "id": "O2w7vqaPbHwp",
        "colab_type": "code",
        "colab": {}
      },
      "source": [
        "import numpy as np\n",
        "import pandas as pd\n",
        "import scipy\n",
        "\n",
        "import matplotlib.pyplot as plt"
      ],
      "execution_count": 0,
      "outputs": []
    },
    {
      "cell_type": "markdown",
      "metadata": {
        "id": "0CVdv9PybBxT",
        "colab_type": "text"
      },
      "source": [
        "#### NUMPY\n",
        "\n"
      ]
    },
    {
      "cell_type": "markdown",
      "metadata": {
        "id": "uaSwx02bfC2s",
        "colab_type": "text"
      },
      "source": [
        "NumPy é um pacote para a linguagem Python que suporta arrays e matrizes multidimensionais, possuindo uma larga coleção de funções matemáticas para trabalhar com estas estruturas. "
      ]
    },
    {
      "cell_type": "code",
      "metadata": {
        "id": "CCXOA26MbkHw",
        "colab_type": "code",
        "colab": {}
      },
      "source": [
        "print(np.__doc__) "
      ],
      "execution_count": 0,
      "outputs": []
    },
    {
      "cell_type": "markdown",
      "metadata": {
        "id": "TN4ow17rjRgj",
        "colab_type": "text"
      },
      "source": [
        "Estruturas básicas:"
      ]
    },
    {
      "cell_type": "code",
      "metadata": {
        "id": "-CAr9LqfjX0T",
        "colab_type": "code",
        "colab": {}
      },
      "source": [
        "lista = [1,2,3]\n",
        "lista_R2 = [[1,2,3]]\n",
        "lista_R3 =[[[1,2,3]]]"
      ],
      "execution_count": 0,
      "outputs": []
    },
    {
      "cell_type": "code",
      "metadata": {
        "id": "OGXldDN3mrDC",
        "colab_type": "code",
        "colab": {}
      },
      "source": [
        "print(np.array(lista))\n",
        "print(np.array(lista).shape)"
      ],
      "execution_count": 0,
      "outputs": []
    },
    {
      "cell_type": "code",
      "metadata": {
        "id": "LoWnhkLbmuuN",
        "colab_type": "code",
        "colab": {}
      },
      "source": [
        "print(np.array(lista_R2))\n",
        "print(np.array(lista_R2).shape)"
      ],
      "execution_count": 0,
      "outputs": []
    },
    {
      "cell_type": "code",
      "metadata": {
        "id": "Sb3R5ltumu2Q",
        "colab_type": "code",
        "colab": {}
      },
      "source": [
        "print(np.array(lista_R3))\n",
        "print(np.array(lista_R3).shape)"
      ],
      "execution_count": 0,
      "outputs": []
    },
    {
      "cell_type": "markdown",
      "metadata": {
        "id": "fmA9HkmLnL7l",
        "colab_type": "text"
      },
      "source": [
        "Numpy arrays possuem tipagem!"
      ]
    },
    {
      "cell_type": "code",
      "metadata": {
        "id": "e4Pu3-PonPl9",
        "colab_type": "code",
        "colab": {}
      },
      "source": [
        "np.array([1,2,3]).dtype"
      ],
      "execution_count": 0,
      "outputs": []
    },
    {
      "cell_type": "code",
      "metadata": {
        "id": "TAu5jF-CnUno",
        "colab_type": "code",
        "colab": {}
      },
      "source": [
        "np.array([1.,2.,3.]).dtype"
      ],
      "execution_count": 0,
      "outputs": []
    },
    {
      "cell_type": "code",
      "metadata": {
        "id": "s8P7YzuXnZ0u",
        "colab_type": "code",
        "colab": {}
      },
      "source": [
        "np.array([1,2,3], np.int32).dtype"
      ],
      "execution_count": 0,
      "outputs": []
    },
    {
      "cell_type": "code",
      "metadata": {
        "id": "YPQnoU_gngIO",
        "colab_type": "code",
        "colab": {}
      },
      "source": [
        "my_int32_arr = np.array([1,2,3], np.int32)\n",
        "\n",
        "# stack overflow example\n",
        "# sub 1 to get max int32 val\n",
        "my_int32_arr[0] = 2**31\n",
        "\n",
        "print(my_int32_arr)\n",
        "print(my_int32_arr.dtype)"
      ],
      "execution_count": 0,
      "outputs": []
    },
    {
      "cell_type": "code",
      "metadata": {
        "id": "qmKLm0o0opHV",
        "colab_type": "code",
        "colab": {}
      },
      "source": [
        "my_int32_arr[0] = 'A'"
      ],
      "execution_count": 0,
      "outputs": []
    },
    {
      "cell_type": "code",
      "metadata": {
        "id": "knsa6UUZowkj",
        "colab_type": "code",
        "colab": {}
      },
      "source": [
        "my_int32_arr[0] = '12'\n",
        "print(my_int32_arr)"
      ],
      "execution_count": 0,
      "outputs": []
    },
    {
      "cell_type": "markdown",
      "metadata": {
        "id": "bVsHBPn8o4Qt",
        "colab_type": "text"
      },
      "source": [
        "Devido a essa implementação em  mais baixo nivel, operações utilizando numpy arrays são, no geral, mais eficientes que utilizando estruturas nativas do python."
      ]
    },
    {
      "cell_type": "code",
      "metadata": {
        "id": "pUTWMD1RpnLv",
        "colab_type": "code",
        "colab": {}
      },
      "source": [
        "import timeit"
      ],
      "execution_count": 0,
      "outputs": []
    },
    {
      "cell_type": "code",
      "metadata": {
        "id": "fpOw4h08ppQw",
        "colab_type": "code",
        "colab": {}
      },
      "source": [
        "lista = list(np.linspace(0,1000, 200))\n",
        "array = np.linspace(0, 1000, 200)"
      ],
      "execution_count": 0,
      "outputs": []
    },
    {
      "cell_type": "code",
      "metadata": {
        "id": "jaOaPILsqDmf",
        "colab_type": "code",
        "colab": {}
      },
      "source": [
        "print(lista[:5])\n",
        "print(array[:5])"
      ],
      "execution_count": 0,
      "outputs": []
    },
    {
      "cell_type": "code",
      "metadata": {
        "id": "K0LjAhghqDs-",
        "colab_type": "code",
        "colab": {}
      },
      "source": [
        "timeit.timeit('np.mean(lista)', globals={'np':np, 'lista':lista})"
      ],
      "execution_count": 0,
      "outputs": []
    },
    {
      "cell_type": "code",
      "metadata": {
        "id": "06I5dSsEqDyP",
        "colab_type": "code",
        "colab": {}
      },
      "source": [
        "timeit.timeit('np.mean(array)', globals={'np':np, 'array':array})"
      ],
      "execution_count": 0,
      "outputs": []
    },
    {
      "cell_type": "markdown",
      "metadata": {
        "id": "2e-dLyK0pO_f",
        "colab_type": "text"
      },
      "source": [
        "Exemplo pratico"
      ]
    },
    {
      "cell_type": "code",
      "metadata": {
        "id": "W7mHtEOMysg_",
        "colab_type": "code",
        "colab": {}
      },
      "source": [
        "# Faça uma função que padronize a lista declarada abaixo utilizando python puro\n",
        "# https://medium.com/data-hackers/normalizar-ou-padronizar-as-vari%C3%A1veis-3b619876ccc9\n",
        "# utilize o z-score para isso\n",
        "lista = list(np.linspace(0,1000, 200))\n",
        "from statistics import stdev, mean\n",
        "\n",
        "def standartize_pure_python(lista):\n",
        "  return\n",
        "\n",
        "\n",
        "def standartize_vectorized(lista):\n",
        "  return"
      ],
      "execution_count": 0,
      "outputs": []
    },
    {
      "cell_type": "code",
      "metadata": {
        "id": "NIum2tOg0e8M",
        "colab_type": "code",
        "colab": {}
      },
      "source": [
        "z_lista = standartize_pure_python(lista)\n",
        "z_array = standartize_vectorized(lista)"
      ],
      "execution_count": 0,
      "outputs": []
    },
    {
      "cell_type": "code",
      "metadata": {
        "id": "Pl_XYq8H1fGL",
        "colab_type": "code",
        "colab": {}
      },
      "source": [
        "assert (z_lista == z_array).all()"
      ],
      "execution_count": 0,
      "outputs": []
    },
    {
      "cell_type": "code",
      "metadata": {
        "id": "VfTFsiUv1j6t",
        "colab_type": "code",
        "colab": {}
      },
      "source": [
        "from scipy import stats"
      ],
      "execution_count": 0,
      "outputs": []
    },
    {
      "cell_type": "code",
      "metadata": {
        "id": "ibJDkdZB2PaX",
        "colab_type": "code",
        "colab": {}
      },
      "source": [
        "assert (stats.zscore(lista) == z_array).all()\n",
        "assert (stats.zscore(lista) == z_lista).all()"
      ],
      "execution_count": 0,
      "outputs": []
    },
    {
      "cell_type": "markdown",
      "metadata": {
        "id": "sWOoxJ-r5Oo6",
        "colab_type": "text"
      },
      "source": [
        "Testes de eficiencia"
      ]
    },
    {
      "cell_type": "code",
      "metadata": {
        "id": "4iHZILJC240V",
        "colab_type": "code",
        "colab": {}
      },
      "source": [
        "print(\"Padronizar com python puro: \"\n",
        "      f\"{timeit.timeit('standartize_pure_python(lista)', globals={'lista': lista, 'standartize_pure_python': standartize_pure_python}, number=10000)}\")\n",
        "print(\"Padronizar com numpy: \"\n",
        "      f\"{timeit.timeit('standartize_vectorized(lista)', globals={'lista': lista, 'standartize_vectorized': standartize_vectorized}, number=10000)}\")\n",
        "print(Padronizar usando scipy: \"\n",
        "      f\"{timeit.timeit('zscore(lista)', globals={'lista': lista, 'zscore': stats.zscore}, number=10000)}\")"
      ],
      "execution_count": 0,
      "outputs": []
    },
    {
      "cell_type": "markdown",
      "metadata": {
        "id": "VIAPv_i2bB7Z",
        "colab_type": "text"
      },
      "source": [
        "#### SCIPY"
      ]
    },
    {
      "cell_type": "markdown",
      "metadata": {
        "id": "AB1pfeTJbCEo",
        "colab_type": "text"
      },
      "source": [
        "Implementa diversos algoritmos bastante úteis para diversas aplicações em engenharia, ciencia e matemática!\n",
        "\n",
        "Feito em python e construido em cima do numpy!!"
      ]
    },
    {
      "cell_type": "markdown",
      "metadata": {
        "id": "UNc8FpkObCMW",
        "colab_type": "text"
      },
      "source": [
        "#### PANDAS"
      ]
    },
    {
      "cell_type": "markdown",
      "metadata": {
        "id": "FF1MHtVE6Ap6",
        "colab_type": "text"
      },
      "source": [
        " pandas é uma ferramenta performatica, facil, poderosa e flexivel construída em cima do python e numpy. \n",
        "\n",
        " Suas estruturas principais são as Series e os DataFrames.\n",
        "\n",
        " Utilizamos pandas a todo momento para manipulação de qualquer dado, desde textos a inclusive imagens.\n",
        "\n",
        " Sua flexibilidade é tãão grande que frameworks de machine learning e outros conseguem aceitar como input suas estruturas de dados.\n",
        "\n",
        " O nosso objetivo no momento éé o de utilizar pandas para a anáálise exploratoria dos dados e para limpeza dos mesmos.\n",
        "\n",
        " O preparo dos dados éé uma das partes mais importantes da modelagem para modelos de machine learning."
      ]
    },
    {
      "cell_type": "code",
      "metadata": {
        "id": "2SUBJ7U957yi",
        "colab_type": "code",
        "colab": {}
      },
      "source": [
        "# primeiramente vamos carregar o csv que esta no workspace\n",
        "# Dataset retirado do kaggle: https://www.kaggle.com/PROPPG-PPG/hourly-weather-surface-brazil-southeast-region"
      ],
      "execution_count": 0,
      "outputs": []
    },
    {
      "cell_type": "markdown",
      "metadata": {
        "id": "er48LLcR_gpP",
        "colab_type": "text"
      },
      "source": [
        "**wsid:**\n",
        "Weather station id\n",
        "\n",
        "**wsnm:**\n",
        "Name station (usually city location or nickname)\n",
        "\n",
        "**elvt:**\n",
        "Elevation\n",
        "\n",
        "**lat:**\n",
        "Latitude\n",
        "\n",
        "**lon:**\n",
        "Longitude\n",
        "\n",
        "**inme:**\n",
        "Station number (INMET number) for the location\n",
        "\n",
        "**city:**\n",
        "City\n",
        "\n",
        "**prov:**\n",
        "State (Province)\n",
        "\n",
        "**mdct:**\n",
        "Observation Datetime (complete date: date + time)\n",
        "\n",
        "**date:**\n",
        "Date of observation\n",
        "\n",
        "**yr:**\n",
        "The year (2000-2016)\n",
        "\n",
        "**mo:**\n",
        "The month (0-12)\n",
        "\n",
        "**da:**\n",
        "The day (0-31)\n",
        "\n",
        "**hr:**\n",
        "The hour (0-23)\n",
        "\n",
        "**prcp:**\n",
        "Amount of precipitation in millimetres (last hour)\n",
        "\n",
        "**stp:**\n",
        "Air pressure for the hour in hPa to tenths (instant)\n",
        "\n",
        "**smax:**\n",
        "Maximum air pressure for the last hour in hPa to tenths\n",
        "\n",
        "**smin:**\n",
        "Minimum air pressure for the last hour in hPa to tenths\n",
        "\n",
        "**gbrd:**\n",
        "Solar radiation KJ/m2\n",
        "\n",
        "**temp:**\n",
        "Air temperature (instant) in celsius degrees\n",
        "\n",
        "**dewp:**\n",
        "Dew point temperature (instant) in celsius degrees\n",
        "\n",
        "**tmax:**\n",
        "Maximum temperature for the last hour in celsius degrees\n",
        "\n",
        "**dmax:**\n",
        "Maximum dew point temperature for the last hour in celsius degrees\n",
        "\n",
        "**tmin:**\n",
        "Minimum temperature for the last hour in celsius degrees\n",
        "\n",
        "**dmin:**\n",
        "Minimum dew point temperature for the last hour in celsius degrees\n",
        "\n",
        "**hmdy:**\n",
        "Relative humid in % (instant)\n",
        "\n",
        "**hmax:**\n",
        "Maximum relative humid temperature for the last hour in %\n",
        "\n",
        "**hmin:**\n",
        "Minimum relative humid temperature for the last hour in %\n",
        "\n",
        "**wdsp:**\n",
        "Wind speed in metres per second\n",
        "\n",
        "**wdct:**\n",
        "Wind direction in radius degrees (0-360)\n",
        "\n",
        "**gust:**\n",
        "Wind gust in metres per second"
      ]
    },
    {
      "cell_type": "code",
      "metadata": {
        "id": "KlMNrbiX8vs-",
        "colab_type": "code",
        "colab": {}
      },
      "source": [
        "df = pd.read_csv('dataset/dataset_INMET_sudeste_1000.csv')"
      ],
      "execution_count": 0,
      "outputs": []
    },
    {
      "cell_type": "code",
      "metadata": {
        "id": "fFrX7SRk8vvz",
        "colab_type": "code",
        "colab": {}
      },
      "source": [
        "# checar 5 primeiras entradas/observações do dataframe\n",
        "df.head()"
      ],
      "execution_count": 0,
      "outputs": []
    },
    {
      "cell_type": "code",
      "metadata": {
        "id": "Af46938w-kN9",
        "colab_type": "code",
        "colab": {}
      },
      "source": [
        "# Aparentemente a coluna 0 deveria ser a coluna de index\n",
        "df = pd.read_csv('dataset/dataset_INMET_sudeste_1000.csv', index_col=0)"
      ],
      "execution_count": 0,
      "outputs": []
    },
    {
      "cell_type": "code",
      "metadata": {
        "id": "9H5obOqp8vxr",
        "colab_type": "code",
        "colab": {}
      },
      "source": [
        "df.head()"
      ],
      "execution_count": 0,
      "outputs": []
    },
    {
      "cell_type": "code",
      "metadata": {
        "id": "VF7c58u-8v1p",
        "colab_type": "code",
        "colab": {}
      },
      "source": [
        "# checar tipos e colunas do dataframe\n",
        "df.info()"
      ],
      "execution_count": 0,
      "outputs": []
    },
    {
      "cell_type": "code",
      "metadata": {
        "id": "eiBkTzef-zJz",
        "colab_type": "code",
        "colab": {}
      },
      "source": [
        "df.isna().sum()"
      ],
      "execution_count": 0,
      "outputs": []
    },
    {
      "cell_type": "code",
      "metadata": {
        "id": "GPuGcx0tA_cH",
        "colab_type": "code",
        "colab": {}
      },
      "source": [
        "df1 = df.drop(columns=['date', 'yr', 'mo', 'da', 'hr']) # ou adicionar a flag inplace=True"
      ],
      "execution_count": 0,
      "outputs": []
    },
    {
      "cell_type": "code",
      "metadata": {
        "id": "p45NV73jBriS",
        "colab_type": "code",
        "colab": {}
      },
      "source": [
        "df1.head()"
      ],
      "execution_count": 0,
      "outputs": []
    },
    {
      "cell_type": "code",
      "metadata": {
        "id": "7mSYsnJPBzGp",
        "colab_type": "code",
        "colab": {}
      },
      "source": [
        "# todas do rio de janeiro\n",
        "df1.prov.unique()"
      ],
      "execution_count": 0,
      "outputs": []
    },
    {
      "cell_type": "code",
      "metadata": {
        "id": "0RT5Kp2SCGlO",
        "colab_type": "code",
        "colab": {}
      },
      "source": [
        "# e da estacao de sao goncalo\n",
        "df1.wsnm.unique()"
      ],
      "execution_count": 0,
      "outputs": []
    },
    {
      "cell_type": "code",
      "metadata": {
        "id": "21YdE7nBGEYQ",
        "colab_type": "code",
        "colab": {}
      },
      "source": [
        "df1.wsid.unique()"
      ],
      "execution_count": 0,
      "outputs": []
    },
    {
      "cell_type": "code",
      "metadata": {
        "id": "LoA_ExIyGvSa",
        "colab_type": "code",
        "colab": {}
      },
      "source": [
        "df1.elvt.unique()"
      ],
      "execution_count": 0,
      "outputs": []
    },
    {
      "cell_type": "code",
      "metadata": {
        "id": "V3lRM337GzUC",
        "colab_type": "code",
        "colab": {}
      },
      "source": [
        "df1.lat.unique()"
      ],
      "execution_count": 0,
      "outputs": []
    },
    {
      "cell_type": "code",
      "metadata": {
        "id": "upH2AnCRGt2i",
        "colab_type": "code",
        "colab": {}
      },
      "source": [
        "# por conta disso irei removar informacoes sobre o id elevacao e latidude\n",
        "df1.drop(columns=['wsid', 'wsnm', 'elvt', 'lat', 'lon'], inplace=True)"
      ],
      "execution_count": 0,
      "outputs": []
    },
    {
      "cell_type": "code",
      "metadata": {
        "id": "8h2Vpao9Helu",
        "colab_type": "code",
        "colab": {}
      },
      "source": [
        "df1.head()"
      ],
      "execution_count": 0,
      "outputs": []
    },
    {
      "cell_type": "code",
      "metadata": {
        "id": "MM06-l1qHf_X",
        "colab_type": "code",
        "colab": {}
      },
      "source": [
        "df1.isna().sum()"
      ],
      "execution_count": 0,
      "outputs": []
    },
    {
      "cell_type": "code",
      "metadata": {
        "id": "8FU54eP5HpT1",
        "colab_type": "code",
        "colab": {}
      },
      "source": [
        "df1.info()"
      ],
      "execution_count": 0,
      "outputs": []
    },
    {
      "cell_type": "code",
      "metadata": {
        "id": "_-xsypn2HrlA",
        "colab_type": "code",
        "colab": {}
      },
      "source": [
        "df1.inme = df1.inme.astype('category')\n",
        "df1.city = df1.city.astype('category')\n",
        "df1.prov = df1.prov.astype('category')"
      ],
      "execution_count": 0,
      "outputs": []
    },
    {
      "cell_type": "code",
      "metadata": {
        "id": "9GEt-2V4H7T4",
        "colab_type": "code",
        "colab": {}
      },
      "source": [
        "df1.info()"
      ],
      "execution_count": 0,
      "outputs": []
    },
    {
      "cell_type": "code",
      "metadata": {
        "id": "XABpq3zaJB4m",
        "colab_type": "code",
        "colab": {}
      },
      "source": [
        "df1.prcp.fillna(0, inplace=True)\n",
        "df1.gbrd.fillna(0, inplace=True)"
      ],
      "execution_count": 0,
      "outputs": []
    },
    {
      "cell_type": "code",
      "metadata": {
        "id": "QsdKNWRYJNxP",
        "colab_type": "code",
        "colab": {}
      },
      "source": [
        "df1.isna().sum()"
      ],
      "execution_count": 0,
      "outputs": []
    },
    {
      "cell_type": "code",
      "metadata": {
        "id": "Y6BtFj5DJt0w",
        "colab_type": "code",
        "colab": {}
      },
      "source": [
        "df1.head()"
      ],
      "execution_count": 0,
      "outputs": []
    },
    {
      "cell_type": "code",
      "metadata": {
        "id": "-IiovBqTK9bE",
        "colab_type": "code",
        "colab": {}
      },
      "source": [
        "df1.mdct = pd.to_datetime(df1.mdct)"
      ],
      "execution_count": 0,
      "outputs": []
    },
    {
      "cell_type": "code",
      "metadata": {
        "id": "GyVLDJJBLKYp",
        "colab_type": "code",
        "colab": {}
      },
      "source": [
        "df1.mdct"
      ],
      "execution_count": 0,
      "outputs": []
    },
    {
      "cell_type": "code",
      "metadata": {
        "id": "VOrIb8DYLgdw",
        "colab_type": "code",
        "colab": {}
      },
      "source": [
        "df1.index = df1.mdct\n",
        "df1.drop(columns='mdct', inplace=True)"
      ],
      "execution_count": 0,
      "outputs": []
    },
    {
      "cell_type": "code",
      "metadata": {
        "id": "43jTTOSGLknz",
        "colab_type": "code",
        "colab": {}
      },
      "source": [
        "df1.head()"
      ],
      "execution_count": 0,
      "outputs": []
    },
    {
      "cell_type": "code",
      "metadata": {
        "id": "Oyzw1MT0LlHN",
        "colab_type": "code",
        "colab": {}
      },
      "source": [
        "# salvar dataframe limpo\n",
        "df1.to_csv('dataset/dataset_INMET_sudeste_1000_limpo.csv')"
      ],
      "execution_count": 0,
      "outputs": []
    },
    {
      "cell_type": "markdown",
      "metadata": {
        "id": "ggws4A0xLvCy",
        "colab_type": "text"
      },
      "source": [
        "#### PLOTTING"
      ]
    },
    {
      "cell_type": "code",
      "metadata": {
        "id": "Qt5gQc0yLyAq",
        "colab_type": "code",
        "colab": {}
      },
      "source": [
        "plt.figure(figsize=(15,10))\n",
        "\n",
        "plt.plot(df1.index, df1.gbrd, alpha=0.5, label='Radição Solar Diária')\n",
        "plt.plot(df1.resample('d').gbrd.mean(), label='Média da Radição Solar Diária')\n",
        "\n",
        "plt.title('Radiaçãão solar ao longo de Janeiro de 2008 a Agosto de 2009')\n",
        "plt.xlabel('Data. Ano/Mes/Dia')\n",
        "plt.ylabel('Radiaçãão Solar')\n",
        "\n",
        "plt.legend()\n",
        "plt.show()"
      ],
      "execution_count": 0,
      "outputs": []
    },
    {
      "cell_type": "code",
      "metadata": {
        "id": "F8nZHpmSOP0I",
        "colab_type": "code",
        "colab": {}
      },
      "source": [
        "# Faça o plot com outras colunas! Seja criativo(a)!"
      ],
      "execution_count": 0,
      "outputs": []
    },
    {
      "cell_type": "code",
      "metadata": {
        "id": "ucGEd9B_Vhul",
        "colab_type": "code",
        "colab": {}
      },
      "source": [
        ""
      ],
      "execution_count": 0,
      "outputs": []
    },
    {
      "cell_type": "code",
      "metadata": {
        "id": "BQQf_FXeViy7",
        "colab_type": "code",
        "colab": {}
      },
      "source": [
        ""
      ],
      "execution_count": 0,
      "outputs": []
    },
    {
      "cell_type": "code",
      "metadata": {
        "id": "qkL3J_LoVjBI",
        "colab_type": "code",
        "colab": {}
      },
      "source": [
        ""
      ],
      "execution_count": 0,
      "outputs": []
    }
  ]
}