{
  "nbformat": 4,
  "nbformat_minor": 0,
  "metadata": {
    "colab": {
      "name": "Aula DataScience.ipynb",
      "provenance": [],
      "collapsed_sections": [
        "VIAPv_i2bB7Z"
      ],
      "toc_visible": true,
      "authorship_tag": "ABX9TyO4w6VQjNu+5bXZqpYRroIW",
      "include_colab_link": true
    },
    "kernelspec": {
      "name": "python3",
      "display_name": "Python 3"
    }
  },
  "cells": [
    {
      "cell_type": "markdown",
      "metadata": {
        "id": "view-in-github",
        "colab_type": "text"
      },
      "source": [
        "<a href=\"https://colab.research.google.com/github/0lucasmoura/TreinamentoHackathonIA2020/blob/master/Aula_DataScience.ipynb\" target=\"_parent\"><img src=\"https://colab.research.google.com/assets/colab-badge.svg\" alt=\"Open In Colab\"/></a>"
      ]
    },
    {
      "cell_type": "markdown",
      "metadata": {
        "id": "p62r7vGnbBec",
        "colab_type": "text"
      },
      "source": [
        "# Ferramentas para analise e visualização de dados"
      ]
    },
    {
      "cell_type": "markdown",
      "metadata": {
        "id": "60_qb14QbcX5",
        "colab_type": "text"
      },
      "source": [
        "Importando ferramentas!"
      ]
    },
    {
      "cell_type": "code",
      "metadata": {
        "id": "O2w7vqaPbHwp",
        "colab_type": "code",
        "colab": {}
      },
      "source": [
        "import numpy as np\n",
        "import pandas as pd\n",
        "import scipy\n",
        "\n",
        "import matplotlib.pyplot as plt"
      ],
      "execution_count": 0,
      "outputs": []
    },
    {
      "cell_type": "markdown",
      "metadata": {
        "id": "0CVdv9PybBxT",
        "colab_type": "text"
      },
      "source": [
        "#### NUMPY\n",
        "\n"
      ]
    },
    {
      "cell_type": "markdown",
      "metadata": {
        "id": "uaSwx02bfC2s",
        "colab_type": "text"
      },
      "source": [
        "NumPy é um pacote para a linguagem Python que suporta arrays e matrizes multidimensionais, possuindo uma larga coleção de funções matemáticas para trabalhar com estas estruturas. "
      ]
    },
    {
      "cell_type": "code",
      "metadata": {
        "id": "CCXOA26MbkHw",
        "colab_type": "code",
        "colab": {}
      },
      "source": [
        "print(np.__doc__) "
      ],
      "execution_count": 0,
      "outputs": []
    },
    {
      "cell_type": "markdown",
      "metadata": {
        "id": "TN4ow17rjRgj",
        "colab_type": "text"
      },
      "source": [
        "Estruturas básicas:"
      ]
    },
    {
      "cell_type": "code",
      "metadata": {
        "id": "-CAr9LqfjX0T",
        "colab_type": "code",
        "colab": {}
      },
      "source": [
        "lista = [1,2,3]\n",
        "lista_R2 = [[1,2,3]]\n",
        "lista_R3 =[[[1,2,3]]]"
      ],
      "execution_count": 0,
      "outputs": []
    },
    {
      "cell_type": "code",
      "metadata": {
        "id": "OGXldDN3mrDC",
        "colab_type": "code",
        "colab": {
          "base_uri": "https://localhost:8080/",
          "height": 52
        },
        "outputId": "45a1d49e-8a3d-4a07-f5fa-fa8f5ac6385e"
      },
      "source": [
        "print(np.array(lista))\n",
        "print(np.array(lista).shape)"
      ],
      "execution_count": 0,
      "outputs": [
        {
          "output_type": "stream",
          "text": [
            "[1 2 3]\n",
            "(3,)\n"
          ],
          "name": "stdout"
        }
      ]
    },
    {
      "cell_type": "code",
      "metadata": {
        "id": "LoWnhkLbmuuN",
        "colab_type": "code",
        "colab": {
          "base_uri": "https://localhost:8080/",
          "height": 52
        },
        "outputId": "717d891f-c0a1-498c-9e4a-31475e00d8c4"
      },
      "source": [
        "print(np.array(lista_R2))\n",
        "print(np.array(lista_R2).shape)"
      ],
      "execution_count": 0,
      "outputs": [
        {
          "output_type": "stream",
          "text": [
            "[[1 2 3]]\n",
            "(1, 3)\n"
          ],
          "name": "stdout"
        }
      ]
    },
    {
      "cell_type": "code",
      "metadata": {
        "id": "Sb3R5ltumu2Q",
        "colab_type": "code",
        "colab": {
          "base_uri": "https://localhost:8080/",
          "height": 52
        },
        "outputId": "d2dc4479-0ed6-4173-a217-470babdfe6d8"
      },
      "source": [
        "print(np.array(lista_R3))\n",
        "print(np.array(lista_R3).shape)"
      ],
      "execution_count": 0,
      "outputs": [
        {
          "output_type": "stream",
          "text": [
            "[[[1 2 3]]]\n",
            "(1, 1, 3)\n"
          ],
          "name": "stdout"
        }
      ]
    },
    {
      "cell_type": "markdown",
      "metadata": {
        "id": "fmA9HkmLnL7l",
        "colab_type": "text"
      },
      "source": [
        "Numpy arrays possuem tipagem!"
      ]
    },
    {
      "cell_type": "code",
      "metadata": {
        "id": "e4Pu3-PonPl9",
        "colab_type": "code",
        "colab": {
          "base_uri": "https://localhost:8080/",
          "height": 34
        },
        "outputId": "19f9ae77-89fc-4279-dfd0-bda7087a967a"
      },
      "source": [
        "np.array([1,2,3]).dtype"
      ],
      "execution_count": 0,
      "outputs": [
        {
          "output_type": "execute_result",
          "data": {
            "text/plain": [
              "dtype('int64')"
            ]
          },
          "metadata": {
            "tags": []
          },
          "execution_count": 72
        }
      ]
    },
    {
      "cell_type": "code",
      "metadata": {
        "id": "TAu5jF-CnUno",
        "colab_type": "code",
        "colab": {
          "base_uri": "https://localhost:8080/",
          "height": 34
        },
        "outputId": "67c1ef38-2375-477a-f4f7-5d50b7540be9"
      },
      "source": [
        "np.array([1.,2.,3.]).dtype"
      ],
      "execution_count": 0,
      "outputs": [
        {
          "output_type": "execute_result",
          "data": {
            "text/plain": [
              "dtype('float64')"
            ]
          },
          "metadata": {
            "tags": []
          },
          "execution_count": 73
        }
      ]
    },
    {
      "cell_type": "code",
      "metadata": {
        "id": "s8P7YzuXnZ0u",
        "colab_type": "code",
        "colab": {
          "base_uri": "https://localhost:8080/",
          "height": 34
        },
        "outputId": "59462210-c793-4724-c5e2-d71d13696d77"
      },
      "source": [
        "np.array([1,2,3], np.int32).dtype"
      ],
      "execution_count": 0,
      "outputs": [
        {
          "output_type": "execute_result",
          "data": {
            "text/plain": [
              "dtype('int32')"
            ]
          },
          "metadata": {
            "tags": []
          },
          "execution_count": 74
        }
      ]
    },
    {
      "cell_type": "code",
      "metadata": {
        "id": "YPQnoU_gngIO",
        "colab_type": "code",
        "colab": {
          "base_uri": "https://localhost:8080/",
          "height": 52
        },
        "outputId": "d03c1017-8cda-42af-96c6-bdff89b0997c"
      },
      "source": [
        "my_int32_arr = np.array([1,2,3], np.int32)\n",
        "\n",
        "# stack overflow example\n",
        "# sub 1 to get max int32 val\n",
        "my_int32_arr[0] = 2**31\n",
        "\n",
        "print(my_int32_arr)\n",
        "print(my_int32_arr.dtype)"
      ],
      "execution_count": 0,
      "outputs": [
        {
          "output_type": "stream",
          "text": [
            "[-2147483648           2           3]\n",
            "int32\n"
          ],
          "name": "stdout"
        }
      ]
    },
    {
      "cell_type": "code",
      "metadata": {
        "id": "qmKLm0o0opHV",
        "colab_type": "code",
        "colab": {
          "base_uri": "https://localhost:8080/",
          "height": 167
        },
        "outputId": "4076c30f-5d2b-44cf-816e-30ca5d8c4ef6"
      },
      "source": [
        "my_int32_arr[0] = 'A'"
      ],
      "execution_count": 76,
      "outputs": [
        {
          "output_type": "error",
          "ename": "ValueError",
          "evalue": "ignored",
          "traceback": [
            "\u001b[0;31m---------------------------------------------------------------------------\u001b[0m",
            "\u001b[0;31mValueError\u001b[0m                                Traceback (most recent call last)",
            "\u001b[0;32m<ipython-input-76-3e8f772fae39>\u001b[0m in \u001b[0;36m<module>\u001b[0;34m()\u001b[0m\n\u001b[0;32m----> 1\u001b[0;31m \u001b[0mmy_int32_arr\u001b[0m\u001b[0;34m[\u001b[0m\u001b[0;36m0\u001b[0m\u001b[0;34m]\u001b[0m \u001b[0;34m=\u001b[0m \u001b[0;34m'A'\u001b[0m\u001b[0;34m\u001b[0m\u001b[0;34m\u001b[0m\u001b[0m\n\u001b[0m",
            "\u001b[0;31mValueError\u001b[0m: invalid literal for int() with base 10: 'A'"
          ]
        }
      ]
    },
    {
      "cell_type": "code",
      "metadata": {
        "id": "knsa6UUZowkj",
        "colab_type": "code",
        "colab": {
          "base_uri": "https://localhost:8080/",
          "height": 34
        },
        "outputId": "ae6b744f-c0da-4670-f0a9-bcf366564527"
      },
      "source": [
        "my_int32_arr[0] = '12'\n",
        "print(my_int32_arr)"
      ],
      "execution_count": 77,
      "outputs": [
        {
          "output_type": "stream",
          "text": [
            "[12  2  3]\n"
          ],
          "name": "stdout"
        }
      ]
    },
    {
      "cell_type": "markdown",
      "metadata": {
        "id": "bVsHBPn8o4Qt",
        "colab_type": "text"
      },
      "source": [
        "Devido a essa implementação em  mais baixo nivel, operações utilizando numpy arrays são, no geral, mais eficientes que utilizando estruturas nativas do python."
      ]
    },
    {
      "cell_type": "code",
      "metadata": {
        "id": "pUTWMD1RpnLv",
        "colab_type": "code",
        "colab": {}
      },
      "source": [
        "import timeit"
      ],
      "execution_count": 0,
      "outputs": []
    },
    {
      "cell_type": "code",
      "metadata": {
        "id": "fpOw4h08ppQw",
        "colab_type": "code",
        "colab": {}
      },
      "source": [
        "lista = list(np.linspace(0,1000, 200))\n",
        "array = np.linspace(0, 1000, 200)"
      ],
      "execution_count": 0,
      "outputs": []
    },
    {
      "cell_type": "code",
      "metadata": {
        "id": "jaOaPILsqDmf",
        "colab_type": "code",
        "colab": {
          "base_uri": "https://localhost:8080/",
          "height": 52
        },
        "outputId": "2285424e-a029-41e0-cf0e-b772882e5770"
      },
      "source": [
        "print(lista[:5])\n",
        "print(array[:5])"
      ],
      "execution_count": 80,
      "outputs": [
        {
          "output_type": "stream",
          "text": [
            "[0.0, 5.025125628140704, 10.050251256281408, 15.075376884422113, 20.100502512562816]\n",
            "[ 0.          5.02512563 10.05025126 15.07537688 20.10050251]\n"
          ],
          "name": "stdout"
        }
      ]
    },
    {
      "cell_type": "code",
      "metadata": {
        "id": "K0LjAhghqDs-",
        "colab_type": "code",
        "colab": {
          "base_uri": "https://localhost:8080/",
          "height": 34
        },
        "outputId": "cfe016ac-a9f7-4564-9576-795d8e1ff7b6"
      },
      "source": [
        "timeit.timeit('np.mean(lista)', globals={'np':np, 'lista':lista})"
      ],
      "execution_count": 81,
      "outputs": [
        {
          "output_type": "execute_result",
          "data": {
            "text/plain": [
              "25.715404355999453"
            ]
          },
          "metadata": {
            "tags": []
          },
          "execution_count": 81
        }
      ]
    },
    {
      "cell_type": "code",
      "metadata": {
        "id": "06I5dSsEqDyP",
        "colab_type": "code",
        "colab": {
          "base_uri": "https://localhost:8080/",
          "height": 34
        },
        "outputId": "2946ba75-a240-4ee9-9335-cb900ec66a4e"
      },
      "source": [
        "timeit.timeit('np.mean(array)', globals={'np':np, 'array':array})"
      ],
      "execution_count": 82,
      "outputs": [
        {
          "output_type": "execute_result",
          "data": {
            "text/plain": [
              "6.65912038299939"
            ]
          },
          "metadata": {
            "tags": []
          },
          "execution_count": 82
        }
      ]
    },
    {
      "cell_type": "markdown",
      "metadata": {
        "id": "2e-dLyK0pO_f",
        "colab_type": "text"
      },
      "source": [
        "Exemplo pratico"
      ]
    },
    {
      "cell_type": "code",
      "metadata": {
        "id": "W7mHtEOMysg_",
        "colab_type": "code",
        "colab": {}
      },
      "source": [
        "# Faça uma função que padronize a lista declarada abaixo utilizando python puro\n",
        "lista = list(np.linspace(0,1000, 200))\n",
        "from statistics import stdev, mean\n",
        "\n",
        "def standartize_pure_python(lista):\n",
        "  new_lista = []\n",
        "  std_ = stdev(lista)\n",
        "  mean_ = mean(lista)\n",
        "  for item in lista:\n",
        "    new_lista.append((item - mean_)/std_)\n",
        "  return new_lista\n",
        "\n",
        "\n",
        "def standartize_vectorized(lista):\n",
        "  array = np.array(lista)\n",
        "  return (array - np.mean(array)) / np.std(array)"
      ],
      "execution_count": 0,
      "outputs": []
    },
    {
      "cell_type": "code",
      "metadata": {
        "id": "NIum2tOg0e8M",
        "colab_type": "code",
        "colab": {}
      },
      "source": [
        "z_lista = standartize_pure_python(lista)\n",
        "z_array = standartize_vectorized(lista)"
      ],
      "execution_count": 0,
      "outputs": []
    },
    {
      "cell_type": "code",
      "metadata": {
        "id": "Pl_XYq8H1fGL",
        "colab_type": "code",
        "colab": {
          "base_uri": "https://localhost:8080/",
          "height": 167
        },
        "outputId": "d223c3ff-9591-48d0-b929-eb411ad8fb3e"
      },
      "source": [
        "assert (z_lista == z_array).all()"
      ],
      "execution_count": 112,
      "outputs": [
        {
          "output_type": "error",
          "ename": "AssertionError",
          "evalue": "ignored",
          "traceback": [
            "\u001b[0;31m---------------------------------------------------------------------------\u001b[0m",
            "\u001b[0;31mAssertionError\u001b[0m                            Traceback (most recent call last)",
            "\u001b[0;32m<ipython-input-112-85d2583760f4>\u001b[0m in \u001b[0;36m<module>\u001b[0;34m()\u001b[0m\n\u001b[0;32m----> 1\u001b[0;31m \u001b[0;32massert\u001b[0m \u001b[0;34m(\u001b[0m\u001b[0mz_lista\u001b[0m \u001b[0;34m==\u001b[0m \u001b[0mz_array\u001b[0m\u001b[0;34m)\u001b[0m\u001b[0;34m.\u001b[0m\u001b[0mall\u001b[0m\u001b[0;34m(\u001b[0m\u001b[0;34m)\u001b[0m\u001b[0;34m\u001b[0m\u001b[0;34m\u001b[0m\u001b[0m\n\u001b[0m",
            "\u001b[0;31mAssertionError\u001b[0m: "
          ]
        }
      ]
    },
    {
      "cell_type": "code",
      "metadata": {
        "id": "VfTFsiUv1j6t",
        "colab_type": "code",
        "colab": {}
      },
      "source": [
        "from scipy import stats"
      ],
      "execution_count": 0,
      "outputs": []
    },
    {
      "cell_type": "code",
      "metadata": {
        "id": "ibJDkdZB2PaX",
        "colab_type": "code",
        "colab": {
          "base_uri": "https://localhost:8080/",
          "height": 185
        },
        "outputId": "6a4dc317-402e-4d89-98ba-f713b849e94c"
      },
      "source": [
        "assert (stats.zscore(lista) == z_array).all()\n",
        "assert (stats.zscore(lista) == z_lista).all()"
      ],
      "execution_count": 111,
      "outputs": [
        {
          "output_type": "error",
          "ename": "AssertionError",
          "evalue": "ignored",
          "traceback": [
            "\u001b[0;31m---------------------------------------------------------------------------\u001b[0m",
            "\u001b[0;31mAssertionError\u001b[0m                            Traceback (most recent call last)",
            "\u001b[0;32m<ipython-input-111-6a4b43ee5bd7>\u001b[0m in \u001b[0;36m<module>\u001b[0;34m()\u001b[0m\n\u001b[1;32m      1\u001b[0m \u001b[0;32massert\u001b[0m \u001b[0;34m(\u001b[0m\u001b[0mstats\u001b[0m\u001b[0;34m.\u001b[0m\u001b[0mzscore\u001b[0m\u001b[0;34m(\u001b[0m\u001b[0mlista\u001b[0m\u001b[0;34m)\u001b[0m \u001b[0;34m==\u001b[0m \u001b[0mz_array\u001b[0m\u001b[0;34m)\u001b[0m\u001b[0;34m.\u001b[0m\u001b[0mall\u001b[0m\u001b[0;34m(\u001b[0m\u001b[0;34m)\u001b[0m\u001b[0;34m\u001b[0m\u001b[0;34m\u001b[0m\u001b[0m\n\u001b[0;32m----> 2\u001b[0;31m \u001b[0;32massert\u001b[0m \u001b[0;34m(\u001b[0m\u001b[0mstats\u001b[0m\u001b[0;34m.\u001b[0m\u001b[0mzscore\u001b[0m\u001b[0;34m(\u001b[0m\u001b[0mlista\u001b[0m\u001b[0;34m)\u001b[0m \u001b[0;34m==\u001b[0m \u001b[0mz_lista\u001b[0m\u001b[0;34m)\u001b[0m\u001b[0;34m.\u001b[0m\u001b[0mall\u001b[0m\u001b[0;34m(\u001b[0m\u001b[0;34m)\u001b[0m\u001b[0;34m\u001b[0m\u001b[0;34m\u001b[0m\u001b[0m\n\u001b[0m",
            "\u001b[0;31mAssertionError\u001b[0m: "
          ]
        }
      ]
    },
    {
      "cell_type": "markdown",
      "metadata": {
        "id": "sWOoxJ-r5Oo6",
        "colab_type": "text"
      },
      "source": [
        "Testes de eficiencia"
      ]
    },
    {
      "cell_type": "code",
      "metadata": {
        "id": "4iHZILJC240V",
        "colab_type": "code",
        "colab": {
          "base_uri": "https://localhost:8080/",
          "height": 69
        },
        "outputId": "9e2bc96d-aa43-484a-c9f5-e7a829364b4a"
      },
      "source": [
        "print(\"Padronizar com python puro: \"\n",
        "      f\"{timeit.timeit('standartize_pure_python(lista)', globals={'lista': lista, 'standartize_pure_python': standartize_pure_python}, number=10000)}\")\n",
        "print(\"Padronizar com numpy: \"\n",
        "      f\"{timeit.timeit('standartize_vectorized(lista)', globals={'lista': lista, 'standartize_vectorized': standartize_vectorized}, number=10000)}\")\n",
        "print(Padronizar usando scipy: \"\n",
        "      f\"{timeit.timeit('zscore(lista)', globals={'lista': lista, 'zscore': stats.zscore}, number=10000)}\")"
      ],
      "execution_count": 123,
      "outputs": [
        {
          "output_type": "stream",
          "text": [
            "Padronizar com python puro: 16.903321310000138\n",
            "Padronizar com numpy: 0.533325603000776\n",
            "Padronizar usando scipy: 0.7283917669992661\n"
          ],
          "name": "stdout"
        }
      ]
    },
    {
      "cell_type": "markdown",
      "metadata": {
        "id": "VIAPv_i2bB7Z",
        "colab_type": "text"
      },
      "source": [
        "#### SCIPY"
      ]
    },
    {
      "cell_type": "markdown",
      "metadata": {
        "id": "AB1pfeTJbCEo",
        "colab_type": "text"
      },
      "source": [
        "Implementa diversos algoritmos bastante úteis para diversas aplicações em engenharia, ciencia e matemática!\n",
        "\n",
        "Feito em python e construido em cima do numpy!!"
      ]
    },
    {
      "cell_type": "markdown",
      "metadata": {
        "id": "UNc8FpkObCMW",
        "colab_type": "text"
      },
      "source": [
        "#### PANDAS"
      ]
    },
    {
      "cell_type": "markdown",
      "metadata": {
        "id": "FF1MHtVE6Ap6",
        "colab_type": "text"
      },
      "source": [
        " pandas é uma ferramenta performatica, facil, poderosa e flexivel construída em cima do python e numpy. \n",
        "\n",
        " Suas estruturas principais são as Series e os DataFrames.\n",
        "\n",
        " Utilizamos pandas a todo momento para manipulação de qualquer dado, desde textos a inclusive imagens.\n",
        "\n",
        " Sua flexibilidade é tãão grande que frameworks de machine learning e outros conseguem aceitar como input suas estruturas de dados.\n",
        "\n",
        " O nosso objetivo no momento éé o de utilizar pandas para a anáálise exploratoria dos dados e para limpeza dos mesmos.\n",
        "\n",
        " O preparo dos dados éé uma das partes mais importantes da modelagem para modelos de machine learning."
      ]
    },
    {
      "cell_type": "code",
      "metadata": {
        "id": "2SUBJ7U957yi",
        "colab_type": "code",
        "colab": {}
      },
      "source": [
        "# primeiramente vamos carregar o csv que esta no workspace\n",
        "# Dataset retirado do kaggle: https://www.kaggle.com/PROPPG-PPG/hourly-weather-surface-brazil-southeast-region"
      ],
      "execution_count": 0,
      "outputs": []
    },
    {
      "cell_type": "markdown",
      "metadata": {
        "id": "er48LLcR_gpP",
        "colab_type": "text"
      },
      "source": [
        "**wsid:**\n",
        "Weather station id\n",
        "\n",
        "**wsnm:**\n",
        "Name station (usually city location or nickname)\n",
        "\n",
        "**elvt:**\n",
        "Elevation\n",
        "\n",
        "**lat:**\n",
        "Latitude\n",
        "\n",
        "**lon:**\n",
        "Longitude\n",
        "\n",
        "**inme:**\n",
        "Station number (INMET number) for the location\n",
        "\n",
        "**city:**\n",
        "City\n",
        "\n",
        "**prov:**\n",
        "State (Province)\n",
        "\n",
        "**mdct:**\n",
        "Observation Datetime (complete date: date + time)\n",
        "\n",
        "**date:**\n",
        "Date of observation\n",
        "\n",
        "**yr:**\n",
        "The year (2000-2016)\n",
        "\n",
        "**mo:**\n",
        "The month (0-12)\n",
        "\n",
        "**da:**\n",
        "The day (0-31)\n",
        "\n",
        "**hr:**\n",
        "The hour (0-23)\n",
        "\n",
        "**prcp:**\n",
        "Amount of precipitation in millimetres (last hour)\n",
        "\n",
        "**stp:**\n",
        "Air pressure for the hour in hPa to tenths (instant)\n",
        "\n",
        "**smax:**\n",
        "Maximum air pressure for the last hour in hPa to tenths\n",
        "\n",
        "**smin:**\n",
        "Minimum air pressure for the last hour in hPa to tenths\n",
        "\n",
        "**gbrd:**\n",
        "Solar radiation KJ/m2\n",
        "\n",
        "**temp:**\n",
        "Air temperature (instant) in celsius degrees\n",
        "\n",
        "**dewp:**\n",
        "Dew point temperature (instant) in celsius degrees\n",
        "\n",
        "**tmax:**\n",
        "Maximum temperature for the last hour in celsius degrees\n",
        "\n",
        "**dmax:**\n",
        "Maximum dew point temperature for the last hour in celsius degrees\n",
        "\n",
        "**tmin:**\n",
        "Minimum temperature for the last hour in celsius degrees\n",
        "\n",
        "**dmin:**\n",
        "Minimum dew point temperature for the last hour in celsius degrees\n",
        "\n",
        "**hmdy:**\n",
        "Relative humid in % (instant)\n",
        "\n",
        "**hmax:**\n",
        "Maximum relative humid temperature for the last hour in %\n",
        "\n",
        "**hmin:**\n",
        "Minimum relative humid temperature for the last hour in %\n",
        "\n",
        "**wdsp:**\n",
        "Wind speed in metres per second\n",
        "\n",
        "**wdct:**\n",
        "Wind direction in radius degrees (0-360)\n",
        "\n",
        "**gust:**\n",
        "Wind gust in metres per second"
      ]
    },
    {
      "cell_type": "code",
      "metadata": {
        "id": "KlMNrbiX8vs-",
        "colab_type": "code",
        "colab": {}
      },
      "source": [
        "df = pd.read_csv('dataset/dataset_INMET_sudeste_1000.csv')"
      ],
      "execution_count": 0,
      "outputs": []
    },
    {
      "cell_type": "code",
      "metadata": {
        "id": "fFrX7SRk8vvz",
        "colab_type": "code",
        "colab": {
          "base_uri": "https://localhost:8080/",
          "height": 330
        },
        "outputId": "485cbde7-f1fe-40c8-b06a-e527ca528585"
      },
      "source": [
        "# checar 5 primeiras entradas/observações do dataframe\n",
        "df.head()"
      ],
      "execution_count": 165,
      "outputs": [
        {
          "output_type": "execute_result",
          "data": {
            "text/html": [
              "<div>\n",
              "<style scoped>\n",
              "    .dataframe tbody tr th:only-of-type {\n",
              "        vertical-align: middle;\n",
              "    }\n",
              "\n",
              "    .dataframe tbody tr th {\n",
              "        vertical-align: top;\n",
              "    }\n",
              "\n",
              "    .dataframe thead th {\n",
              "        text-align: right;\n",
              "    }\n",
              "</style>\n",
              "<table border=\"1\" class=\"dataframe\">\n",
              "  <thead>\n",
              "    <tr style=\"text-align: right;\">\n",
              "      <th></th>\n",
              "      <th>Unnamed: 0</th>\n",
              "      <th>wsid</th>\n",
              "      <th>wsnm</th>\n",
              "      <th>elvt</th>\n",
              "      <th>lat</th>\n",
              "      <th>lon</th>\n",
              "      <th>inme</th>\n",
              "      <th>city</th>\n",
              "      <th>prov</th>\n",
              "      <th>mdct</th>\n",
              "      <th>date</th>\n",
              "      <th>yr</th>\n",
              "      <th>mo</th>\n",
              "      <th>da</th>\n",
              "      <th>hr</th>\n",
              "      <th>prcp</th>\n",
              "      <th>stp</th>\n",
              "      <th>smax</th>\n",
              "      <th>smin</th>\n",
              "      <th>gbrd</th>\n",
              "      <th>temp</th>\n",
              "      <th>dewp</th>\n",
              "      <th>tmax</th>\n",
              "      <th>dmax</th>\n",
              "      <th>tmin</th>\n",
              "      <th>dmin</th>\n",
              "      <th>hmdy</th>\n",
              "      <th>hmax</th>\n",
              "      <th>hmin</th>\n",
              "      <th>wdsp</th>\n",
              "      <th>wdct</th>\n",
              "      <th>gust</th>\n",
              "    </tr>\n",
              "  </thead>\n",
              "  <tbody>\n",
              "    <tr>\n",
              "      <th>0</th>\n",
              "      <td>0</td>\n",
              "      <td>178</td>\n",
              "      <td>SÃO GONÇALO</td>\n",
              "      <td>237.0</td>\n",
              "      <td>-6.835777</td>\n",
              "      <td>-38.311583</td>\n",
              "      <td>A333</td>\n",
              "      <td>São Gonçalo</td>\n",
              "      <td>RJ</td>\n",
              "      <td>2007-11-06 00:00:00</td>\n",
              "      <td>2007-11-06</td>\n",
              "      <td>2007</td>\n",
              "      <td>11</td>\n",
              "      <td>6</td>\n",
              "      <td>0</td>\n",
              "      <td>NaN</td>\n",
              "      <td>982.5</td>\n",
              "      <td>982.5</td>\n",
              "      <td>981.3</td>\n",
              "      <td>NaN</td>\n",
              "      <td>29.3</td>\n",
              "      <td>12.1</td>\n",
              "      <td>29.7</td>\n",
              "      <td>16.8</td>\n",
              "      <td>25.5</td>\n",
              "      <td>10.8</td>\n",
              "      <td>35.0</td>\n",
              "      <td>58.0</td>\n",
              "      <td>32.0</td>\n",
              "      <td>3.2</td>\n",
              "      <td>101.0</td>\n",
              "      <td>6.5</td>\n",
              "    </tr>\n",
              "    <tr>\n",
              "      <th>1</th>\n",
              "      <td>1</td>\n",
              "      <td>178</td>\n",
              "      <td>SÃO GONÇALO</td>\n",
              "      <td>237.0</td>\n",
              "      <td>-6.835777</td>\n",
              "      <td>-38.311583</td>\n",
              "      <td>A333</td>\n",
              "      <td>São Gonçalo</td>\n",
              "      <td>RJ</td>\n",
              "      <td>2007-11-06 01:00:00</td>\n",
              "      <td>2007-11-06</td>\n",
              "      <td>2007</td>\n",
              "      <td>11</td>\n",
              "      <td>6</td>\n",
              "      <td>1</td>\n",
              "      <td>NaN</td>\n",
              "      <td>983.2</td>\n",
              "      <td>983.2</td>\n",
              "      <td>982.5</td>\n",
              "      <td>NaN</td>\n",
              "      <td>29.0</td>\n",
              "      <td>13.5</td>\n",
              "      <td>29.9</td>\n",
              "      <td>13.6</td>\n",
              "      <td>29.0</td>\n",
              "      <td>12.2</td>\n",
              "      <td>39.0</td>\n",
              "      <td>39.0</td>\n",
              "      <td>35.0</td>\n",
              "      <td>3.6</td>\n",
              "      <td>94.0</td>\n",
              "      <td>6.4</td>\n",
              "    </tr>\n",
              "    <tr>\n",
              "      <th>2</th>\n",
              "      <td>2</td>\n",
              "      <td>178</td>\n",
              "      <td>SÃO GONÇALO</td>\n",
              "      <td>237.0</td>\n",
              "      <td>-6.835777</td>\n",
              "      <td>-38.311583</td>\n",
              "      <td>A333</td>\n",
              "      <td>São Gonçalo</td>\n",
              "      <td>RJ</td>\n",
              "      <td>2007-11-06 02:00:00</td>\n",
              "      <td>2007-11-06</td>\n",
              "      <td>2007</td>\n",
              "      <td>11</td>\n",
              "      <td>6</td>\n",
              "      <td>2</td>\n",
              "      <td>NaN</td>\n",
              "      <td>983.5</td>\n",
              "      <td>983.5</td>\n",
              "      <td>983.2</td>\n",
              "      <td>NaN</td>\n",
              "      <td>27.4</td>\n",
              "      <td>14.0</td>\n",
              "      <td>29.0</td>\n",
              "      <td>14.0</td>\n",
              "      <td>27.4</td>\n",
              "      <td>13.6</td>\n",
              "      <td>44.0</td>\n",
              "      <td>44.0</td>\n",
              "      <td>39.0</td>\n",
              "      <td>2.5</td>\n",
              "      <td>93.0</td>\n",
              "      <td>6.9</td>\n",
              "    </tr>\n",
              "    <tr>\n",
              "      <th>3</th>\n",
              "      <td>3</td>\n",
              "      <td>178</td>\n",
              "      <td>SÃO GONÇALO</td>\n",
              "      <td>237.0</td>\n",
              "      <td>-6.835777</td>\n",
              "      <td>-38.311583</td>\n",
              "      <td>A333</td>\n",
              "      <td>São Gonçalo</td>\n",
              "      <td>RJ</td>\n",
              "      <td>2007-11-06 03:00:00</td>\n",
              "      <td>2007-11-06</td>\n",
              "      <td>2007</td>\n",
              "      <td>11</td>\n",
              "      <td>6</td>\n",
              "      <td>3</td>\n",
              "      <td>NaN</td>\n",
              "      <td>983.7</td>\n",
              "      <td>983.7</td>\n",
              "      <td>983.4</td>\n",
              "      <td>NaN</td>\n",
              "      <td>25.8</td>\n",
              "      <td>16.9</td>\n",
              "      <td>27.4</td>\n",
              "      <td>16.9</td>\n",
              "      <td>25.8</td>\n",
              "      <td>14.1</td>\n",
              "      <td>58.0</td>\n",
              "      <td>58.0</td>\n",
              "      <td>44.0</td>\n",
              "      <td>1.7</td>\n",
              "      <td>96.0</td>\n",
              "      <td>5.8</td>\n",
              "    </tr>\n",
              "    <tr>\n",
              "      <th>4</th>\n",
              "      <td>4</td>\n",
              "      <td>178</td>\n",
              "      <td>SÃO GONÇALO</td>\n",
              "      <td>237.0</td>\n",
              "      <td>-6.835777</td>\n",
              "      <td>-38.311583</td>\n",
              "      <td>A333</td>\n",
              "      <td>São Gonçalo</td>\n",
              "      <td>RJ</td>\n",
              "      <td>2007-11-06 04:00:00</td>\n",
              "      <td>2007-11-06</td>\n",
              "      <td>2007</td>\n",
              "      <td>11</td>\n",
              "      <td>6</td>\n",
              "      <td>4</td>\n",
              "      <td>NaN</td>\n",
              "      <td>983.7</td>\n",
              "      <td>983.8</td>\n",
              "      <td>983.6</td>\n",
              "      <td>NaN</td>\n",
              "      <td>25.4</td>\n",
              "      <td>16.4</td>\n",
              "      <td>26.3</td>\n",
              "      <td>17.0</td>\n",
              "      <td>25.3</td>\n",
              "      <td>16.4</td>\n",
              "      <td>57.0</td>\n",
              "      <td>58.0</td>\n",
              "      <td>56.0</td>\n",
              "      <td>3.1</td>\n",
              "      <td>110.0</td>\n",
              "      <td>7.5</td>\n",
              "    </tr>\n",
              "  </tbody>\n",
              "</table>\n",
              "</div>"
            ],
            "text/plain": [
              "   Unnamed: 0  wsid         wsnm   elvt  ...  hmin  wdsp   wdct gust\n",
              "0           0   178  SÃO GONÇALO  237.0  ...  32.0   3.2  101.0  6.5\n",
              "1           1   178  SÃO GONÇALO  237.0  ...  35.0   3.6   94.0  6.4\n",
              "2           2   178  SÃO GONÇALO  237.0  ...  39.0   2.5   93.0  6.9\n",
              "3           3   178  SÃO GONÇALO  237.0  ...  44.0   1.7   96.0  5.8\n",
              "4           4   178  SÃO GONÇALO  237.0  ...  56.0   3.1  110.0  7.5\n",
              "\n",
              "[5 rows x 32 columns]"
            ]
          },
          "metadata": {
            "tags": []
          },
          "execution_count": 165
        }
      ]
    },
    {
      "cell_type": "code",
      "metadata": {
        "id": "Af46938w-kN9",
        "colab_type": "code",
        "colab": {}
      },
      "source": [
        "# Aparentemente a coluna 0 deveria ser a coluna de index\n",
        "df = pd.read_csv('dataset/dataset_INMET_5estacao.csv', index_col=0)"
      ],
      "execution_count": 0,
      "outputs": []
    },
    {
      "cell_type": "code",
      "metadata": {
        "id": "9H5obOqp8vxr",
        "colab_type": "code",
        "colab": {
          "base_uri": "https://localhost:8080/",
          "height": 313
        },
        "outputId": "8570e5e1-ea73-458d-9520-eb624cf03c26"
      },
      "source": [
        "df.head()"
      ],
      "execution_count": 188,
      "outputs": [
        {
          "output_type": "execute_result",
          "data": {
            "text/html": [
              "<div>\n",
              "<style scoped>\n",
              "    .dataframe tbody tr th:only-of-type {\n",
              "        vertical-align: middle;\n",
              "    }\n",
              "\n",
              "    .dataframe tbody tr th {\n",
              "        vertical-align: top;\n",
              "    }\n",
              "\n",
              "    .dataframe thead th {\n",
              "        text-align: right;\n",
              "    }\n",
              "</style>\n",
              "<table border=\"1\" class=\"dataframe\">\n",
              "  <thead>\n",
              "    <tr style=\"text-align: right;\">\n",
              "      <th></th>\n",
              "      <th>wsid</th>\n",
              "      <th>wsnm</th>\n",
              "      <th>elvt</th>\n",
              "      <th>lat</th>\n",
              "      <th>lon</th>\n",
              "      <th>inme</th>\n",
              "      <th>city</th>\n",
              "      <th>prov</th>\n",
              "      <th>mdct</th>\n",
              "      <th>date</th>\n",
              "      <th>yr</th>\n",
              "      <th>mo</th>\n",
              "      <th>da</th>\n",
              "      <th>hr</th>\n",
              "      <th>prcp</th>\n",
              "      <th>stp</th>\n",
              "      <th>smax</th>\n",
              "      <th>smin</th>\n",
              "      <th>gbrd</th>\n",
              "      <th>temp</th>\n",
              "      <th>dewp</th>\n",
              "      <th>tmax</th>\n",
              "      <th>dmax</th>\n",
              "      <th>tmin</th>\n",
              "      <th>dmin</th>\n",
              "      <th>hmdy</th>\n",
              "      <th>hmax</th>\n",
              "      <th>hmin</th>\n",
              "      <th>wdsp</th>\n",
              "      <th>wdct</th>\n",
              "      <th>gust</th>\n",
              "    </tr>\n",
              "  </thead>\n",
              "  <tbody>\n",
              "    <tr>\n",
              "      <th>0</th>\n",
              "      <td>178</td>\n",
              "      <td>SÃO GONÇALO</td>\n",
              "      <td>237.0</td>\n",
              "      <td>-6.835777</td>\n",
              "      <td>-38.311583</td>\n",
              "      <td>A333</td>\n",
              "      <td>São Gonçalo</td>\n",
              "      <td>RJ</td>\n",
              "      <td>2007-11-06 00:00:00</td>\n",
              "      <td>2007-11-06</td>\n",
              "      <td>2007</td>\n",
              "      <td>11</td>\n",
              "      <td>6</td>\n",
              "      <td>0</td>\n",
              "      <td>NaN</td>\n",
              "      <td>982.5</td>\n",
              "      <td>982.5</td>\n",
              "      <td>981.3</td>\n",
              "      <td>NaN</td>\n",
              "      <td>29.3</td>\n",
              "      <td>12.1</td>\n",
              "      <td>29.7</td>\n",
              "      <td>16.8</td>\n",
              "      <td>25.5</td>\n",
              "      <td>10.8</td>\n",
              "      <td>35.0</td>\n",
              "      <td>58.0</td>\n",
              "      <td>32.0</td>\n",
              "      <td>3.2</td>\n",
              "      <td>101.0</td>\n",
              "      <td>6.5</td>\n",
              "    </tr>\n",
              "    <tr>\n",
              "      <th>1</th>\n",
              "      <td>178</td>\n",
              "      <td>SÃO GONÇALO</td>\n",
              "      <td>237.0</td>\n",
              "      <td>-6.835777</td>\n",
              "      <td>-38.311583</td>\n",
              "      <td>A333</td>\n",
              "      <td>São Gonçalo</td>\n",
              "      <td>RJ</td>\n",
              "      <td>2007-11-06 01:00:00</td>\n",
              "      <td>2007-11-06</td>\n",
              "      <td>2007</td>\n",
              "      <td>11</td>\n",
              "      <td>6</td>\n",
              "      <td>1</td>\n",
              "      <td>NaN</td>\n",
              "      <td>983.2</td>\n",
              "      <td>983.2</td>\n",
              "      <td>982.5</td>\n",
              "      <td>NaN</td>\n",
              "      <td>29.0</td>\n",
              "      <td>13.5</td>\n",
              "      <td>29.9</td>\n",
              "      <td>13.6</td>\n",
              "      <td>29.0</td>\n",
              "      <td>12.2</td>\n",
              "      <td>39.0</td>\n",
              "      <td>39.0</td>\n",
              "      <td>35.0</td>\n",
              "      <td>3.6</td>\n",
              "      <td>94.0</td>\n",
              "      <td>6.4</td>\n",
              "    </tr>\n",
              "    <tr>\n",
              "      <th>2</th>\n",
              "      <td>178</td>\n",
              "      <td>SÃO GONÇALO</td>\n",
              "      <td>237.0</td>\n",
              "      <td>-6.835777</td>\n",
              "      <td>-38.311583</td>\n",
              "      <td>A333</td>\n",
              "      <td>São Gonçalo</td>\n",
              "      <td>RJ</td>\n",
              "      <td>2007-11-06 02:00:00</td>\n",
              "      <td>2007-11-06</td>\n",
              "      <td>2007</td>\n",
              "      <td>11</td>\n",
              "      <td>6</td>\n",
              "      <td>2</td>\n",
              "      <td>NaN</td>\n",
              "      <td>983.5</td>\n",
              "      <td>983.5</td>\n",
              "      <td>983.2</td>\n",
              "      <td>NaN</td>\n",
              "      <td>27.4</td>\n",
              "      <td>14.0</td>\n",
              "      <td>29.0</td>\n",
              "      <td>14.0</td>\n",
              "      <td>27.4</td>\n",
              "      <td>13.6</td>\n",
              "      <td>44.0</td>\n",
              "      <td>44.0</td>\n",
              "      <td>39.0</td>\n",
              "      <td>2.5</td>\n",
              "      <td>93.0</td>\n",
              "      <td>6.9</td>\n",
              "    </tr>\n",
              "    <tr>\n",
              "      <th>3</th>\n",
              "      <td>178</td>\n",
              "      <td>SÃO GONÇALO</td>\n",
              "      <td>237.0</td>\n",
              "      <td>-6.835777</td>\n",
              "      <td>-38.311583</td>\n",
              "      <td>A333</td>\n",
              "      <td>São Gonçalo</td>\n",
              "      <td>RJ</td>\n",
              "      <td>2007-11-06 03:00:00</td>\n",
              "      <td>2007-11-06</td>\n",
              "      <td>2007</td>\n",
              "      <td>11</td>\n",
              "      <td>6</td>\n",
              "      <td>3</td>\n",
              "      <td>NaN</td>\n",
              "      <td>983.7</td>\n",
              "      <td>983.7</td>\n",
              "      <td>983.4</td>\n",
              "      <td>NaN</td>\n",
              "      <td>25.8</td>\n",
              "      <td>16.9</td>\n",
              "      <td>27.4</td>\n",
              "      <td>16.9</td>\n",
              "      <td>25.8</td>\n",
              "      <td>14.1</td>\n",
              "      <td>58.0</td>\n",
              "      <td>58.0</td>\n",
              "      <td>44.0</td>\n",
              "      <td>1.7</td>\n",
              "      <td>96.0</td>\n",
              "      <td>5.8</td>\n",
              "    </tr>\n",
              "    <tr>\n",
              "      <th>4</th>\n",
              "      <td>178</td>\n",
              "      <td>SÃO GONÇALO</td>\n",
              "      <td>237.0</td>\n",
              "      <td>-6.835777</td>\n",
              "      <td>-38.311583</td>\n",
              "      <td>A333</td>\n",
              "      <td>São Gonçalo</td>\n",
              "      <td>RJ</td>\n",
              "      <td>2007-11-06 04:00:00</td>\n",
              "      <td>2007-11-06</td>\n",
              "      <td>2007</td>\n",
              "      <td>11</td>\n",
              "      <td>6</td>\n",
              "      <td>4</td>\n",
              "      <td>NaN</td>\n",
              "      <td>983.7</td>\n",
              "      <td>983.8</td>\n",
              "      <td>983.6</td>\n",
              "      <td>NaN</td>\n",
              "      <td>25.4</td>\n",
              "      <td>16.4</td>\n",
              "      <td>26.3</td>\n",
              "      <td>17.0</td>\n",
              "      <td>25.3</td>\n",
              "      <td>16.4</td>\n",
              "      <td>57.0</td>\n",
              "      <td>58.0</td>\n",
              "      <td>56.0</td>\n",
              "      <td>3.1</td>\n",
              "      <td>110.0</td>\n",
              "      <td>7.5</td>\n",
              "    </tr>\n",
              "  </tbody>\n",
              "</table>\n",
              "</div>"
            ],
            "text/plain": [
              "   wsid         wsnm   elvt       lat        lon  ...  hmax  hmin wdsp   wdct gust\n",
              "0   178  SÃO GONÇALO  237.0 -6.835777 -38.311583  ...  58.0  32.0  3.2  101.0  6.5\n",
              "1   178  SÃO GONÇALO  237.0 -6.835777 -38.311583  ...  39.0  35.0  3.6   94.0  6.4\n",
              "2   178  SÃO GONÇALO  237.0 -6.835777 -38.311583  ...  44.0  39.0  2.5   93.0  6.9\n",
              "3   178  SÃO GONÇALO  237.0 -6.835777 -38.311583  ...  58.0  44.0  1.7   96.0  5.8\n",
              "4   178  SÃO GONÇALO  237.0 -6.835777 -38.311583  ...  58.0  56.0  3.1  110.0  7.5\n",
              "\n",
              "[5 rows x 31 columns]"
            ]
          },
          "metadata": {
            "tags": []
          },
          "execution_count": 188
        }
      ]
    },
    {
      "cell_type": "code",
      "metadata": {
        "id": "VF7c58u-8v1p",
        "colab_type": "code",
        "colab": {
          "base_uri": "https://localhost:8080/",
          "height": 642
        },
        "outputId": "285eebcb-b4be-43b0-d452-e7d49e347316"
      },
      "source": [
        "# checar tipos e colunas do dataframe\n",
        "df.info()"
      ],
      "execution_count": 189,
      "outputs": [
        {
          "output_type": "stream",
          "text": [
            "<class 'pandas.core.frame.DataFrame'>\n",
            "Int64Index: 16329 entries, 0 to 16328\n",
            "Data columns (total 31 columns):\n",
            "wsid    16329 non-null int64\n",
            "wsnm    16329 non-null object\n",
            "elvt    16329 non-null float64\n",
            "lat     16329 non-null float64\n",
            "lon     16329 non-null float64\n",
            "inme    16329 non-null object\n",
            "city    16329 non-null object\n",
            "prov    16329 non-null object\n",
            "mdct    16329 non-null object\n",
            "date    16329 non-null object\n",
            "yr      16329 non-null int64\n",
            "mo      16329 non-null int64\n",
            "da      16329 non-null int64\n",
            "hr      16329 non-null int64\n",
            "prcp    7317 non-null float64\n",
            "stp     16328 non-null float64\n",
            "smax    16328 non-null float64\n",
            "smin    16328 non-null float64\n",
            "gbrd    9520 non-null float64\n",
            "temp    16328 non-null float64\n",
            "dewp    16328 non-null float64\n",
            "tmax    16328 non-null float64\n",
            "dmax    16328 non-null float64\n",
            "tmin    16328 non-null float64\n",
            "dmin    16328 non-null float64\n",
            "hmdy    16328 non-null float64\n",
            "hmax    16328 non-null float64\n",
            "hmin    16328 non-null float64\n",
            "wdsp    15211 non-null float64\n",
            "wdct    16328 non-null float64\n",
            "gust    16100 non-null float64\n",
            "dtypes: float64(20), int64(5), object(6)\n",
            "memory usage: 4.0+ MB\n"
          ],
          "name": "stdout"
        }
      ]
    },
    {
      "cell_type": "code",
      "metadata": {
        "id": "eiBkTzef-zJz",
        "colab_type": "code",
        "colab": {
          "base_uri": "https://localhost:8080/",
          "height": 573
        },
        "outputId": "7e337fff-df80-4607-f7f2-9b3f8e612e91"
      },
      "source": [
        "df.isna().sum()"
      ],
      "execution_count": 190,
      "outputs": [
        {
          "output_type": "execute_result",
          "data": {
            "text/plain": [
              "wsid       0\n",
              "wsnm       0\n",
              "elvt       0\n",
              "lat        0\n",
              "lon        0\n",
              "inme       0\n",
              "city       0\n",
              "prov       0\n",
              "mdct       0\n",
              "date       0\n",
              "yr         0\n",
              "mo         0\n",
              "da         0\n",
              "hr         0\n",
              "prcp    9012\n",
              "stp        1\n",
              "smax       1\n",
              "smin       1\n",
              "gbrd    6809\n",
              "temp       1\n",
              "dewp       1\n",
              "tmax       1\n",
              "dmax       1\n",
              "tmin       1\n",
              "dmin       1\n",
              "hmdy       1\n",
              "hmax       1\n",
              "hmin       1\n",
              "wdsp    1118\n",
              "wdct       1\n",
              "gust     229\n",
              "dtype: int64"
            ]
          },
          "metadata": {
            "tags": []
          },
          "execution_count": 190
        }
      ]
    },
    {
      "cell_type": "code",
      "metadata": {
        "id": "GPuGcx0tA_cH",
        "colab_type": "code",
        "colab": {}
      },
      "source": [
        "df1 = df.drop(columns=['date', 'yr', 'mo', 'da', 'hr']) # ou adicionar a flag inplace=True"
      ],
      "execution_count": 0,
      "outputs": []
    },
    {
      "cell_type": "code",
      "metadata": {
        "id": "p45NV73jBriS",
        "colab_type": "code",
        "colab": {
          "base_uri": "https://localhost:8080/",
          "height": 313
        },
        "outputId": "43841fba-726b-47ea-99c7-4f469c367f4e"
      },
      "source": [
        "df1.head()"
      ],
      "execution_count": 192,
      "outputs": [
        {
          "output_type": "execute_result",
          "data": {
            "text/html": [
              "<div>\n",
              "<style scoped>\n",
              "    .dataframe tbody tr th:only-of-type {\n",
              "        vertical-align: middle;\n",
              "    }\n",
              "\n",
              "    .dataframe tbody tr th {\n",
              "        vertical-align: top;\n",
              "    }\n",
              "\n",
              "    .dataframe thead th {\n",
              "        text-align: right;\n",
              "    }\n",
              "</style>\n",
              "<table border=\"1\" class=\"dataframe\">\n",
              "  <thead>\n",
              "    <tr style=\"text-align: right;\">\n",
              "      <th></th>\n",
              "      <th>wsid</th>\n",
              "      <th>wsnm</th>\n",
              "      <th>elvt</th>\n",
              "      <th>lat</th>\n",
              "      <th>lon</th>\n",
              "      <th>inme</th>\n",
              "      <th>city</th>\n",
              "      <th>prov</th>\n",
              "      <th>mdct</th>\n",
              "      <th>prcp</th>\n",
              "      <th>stp</th>\n",
              "      <th>smax</th>\n",
              "      <th>smin</th>\n",
              "      <th>gbrd</th>\n",
              "      <th>temp</th>\n",
              "      <th>dewp</th>\n",
              "      <th>tmax</th>\n",
              "      <th>dmax</th>\n",
              "      <th>tmin</th>\n",
              "      <th>dmin</th>\n",
              "      <th>hmdy</th>\n",
              "      <th>hmax</th>\n",
              "      <th>hmin</th>\n",
              "      <th>wdsp</th>\n",
              "      <th>wdct</th>\n",
              "      <th>gust</th>\n",
              "    </tr>\n",
              "  </thead>\n",
              "  <tbody>\n",
              "    <tr>\n",
              "      <th>0</th>\n",
              "      <td>178</td>\n",
              "      <td>SÃO GONÇALO</td>\n",
              "      <td>237.0</td>\n",
              "      <td>-6.835777</td>\n",
              "      <td>-38.311583</td>\n",
              "      <td>A333</td>\n",
              "      <td>São Gonçalo</td>\n",
              "      <td>RJ</td>\n",
              "      <td>2007-11-06 00:00:00</td>\n",
              "      <td>NaN</td>\n",
              "      <td>982.5</td>\n",
              "      <td>982.5</td>\n",
              "      <td>981.3</td>\n",
              "      <td>NaN</td>\n",
              "      <td>29.3</td>\n",
              "      <td>12.1</td>\n",
              "      <td>29.7</td>\n",
              "      <td>16.8</td>\n",
              "      <td>25.5</td>\n",
              "      <td>10.8</td>\n",
              "      <td>35.0</td>\n",
              "      <td>58.0</td>\n",
              "      <td>32.0</td>\n",
              "      <td>3.2</td>\n",
              "      <td>101.0</td>\n",
              "      <td>6.5</td>\n",
              "    </tr>\n",
              "    <tr>\n",
              "      <th>1</th>\n",
              "      <td>178</td>\n",
              "      <td>SÃO GONÇALO</td>\n",
              "      <td>237.0</td>\n",
              "      <td>-6.835777</td>\n",
              "      <td>-38.311583</td>\n",
              "      <td>A333</td>\n",
              "      <td>São Gonçalo</td>\n",
              "      <td>RJ</td>\n",
              "      <td>2007-11-06 01:00:00</td>\n",
              "      <td>NaN</td>\n",
              "      <td>983.2</td>\n",
              "      <td>983.2</td>\n",
              "      <td>982.5</td>\n",
              "      <td>NaN</td>\n",
              "      <td>29.0</td>\n",
              "      <td>13.5</td>\n",
              "      <td>29.9</td>\n",
              "      <td>13.6</td>\n",
              "      <td>29.0</td>\n",
              "      <td>12.2</td>\n",
              "      <td>39.0</td>\n",
              "      <td>39.0</td>\n",
              "      <td>35.0</td>\n",
              "      <td>3.6</td>\n",
              "      <td>94.0</td>\n",
              "      <td>6.4</td>\n",
              "    </tr>\n",
              "    <tr>\n",
              "      <th>2</th>\n",
              "      <td>178</td>\n",
              "      <td>SÃO GONÇALO</td>\n",
              "      <td>237.0</td>\n",
              "      <td>-6.835777</td>\n",
              "      <td>-38.311583</td>\n",
              "      <td>A333</td>\n",
              "      <td>São Gonçalo</td>\n",
              "      <td>RJ</td>\n",
              "      <td>2007-11-06 02:00:00</td>\n",
              "      <td>NaN</td>\n",
              "      <td>983.5</td>\n",
              "      <td>983.5</td>\n",
              "      <td>983.2</td>\n",
              "      <td>NaN</td>\n",
              "      <td>27.4</td>\n",
              "      <td>14.0</td>\n",
              "      <td>29.0</td>\n",
              "      <td>14.0</td>\n",
              "      <td>27.4</td>\n",
              "      <td>13.6</td>\n",
              "      <td>44.0</td>\n",
              "      <td>44.0</td>\n",
              "      <td>39.0</td>\n",
              "      <td>2.5</td>\n",
              "      <td>93.0</td>\n",
              "      <td>6.9</td>\n",
              "    </tr>\n",
              "    <tr>\n",
              "      <th>3</th>\n",
              "      <td>178</td>\n",
              "      <td>SÃO GONÇALO</td>\n",
              "      <td>237.0</td>\n",
              "      <td>-6.835777</td>\n",
              "      <td>-38.311583</td>\n",
              "      <td>A333</td>\n",
              "      <td>São Gonçalo</td>\n",
              "      <td>RJ</td>\n",
              "      <td>2007-11-06 03:00:00</td>\n",
              "      <td>NaN</td>\n",
              "      <td>983.7</td>\n",
              "      <td>983.7</td>\n",
              "      <td>983.4</td>\n",
              "      <td>NaN</td>\n",
              "      <td>25.8</td>\n",
              "      <td>16.9</td>\n",
              "      <td>27.4</td>\n",
              "      <td>16.9</td>\n",
              "      <td>25.8</td>\n",
              "      <td>14.1</td>\n",
              "      <td>58.0</td>\n",
              "      <td>58.0</td>\n",
              "      <td>44.0</td>\n",
              "      <td>1.7</td>\n",
              "      <td>96.0</td>\n",
              "      <td>5.8</td>\n",
              "    </tr>\n",
              "    <tr>\n",
              "      <th>4</th>\n",
              "      <td>178</td>\n",
              "      <td>SÃO GONÇALO</td>\n",
              "      <td>237.0</td>\n",
              "      <td>-6.835777</td>\n",
              "      <td>-38.311583</td>\n",
              "      <td>A333</td>\n",
              "      <td>São Gonçalo</td>\n",
              "      <td>RJ</td>\n",
              "      <td>2007-11-06 04:00:00</td>\n",
              "      <td>NaN</td>\n",
              "      <td>983.7</td>\n",
              "      <td>983.8</td>\n",
              "      <td>983.6</td>\n",
              "      <td>NaN</td>\n",
              "      <td>25.4</td>\n",
              "      <td>16.4</td>\n",
              "      <td>26.3</td>\n",
              "      <td>17.0</td>\n",
              "      <td>25.3</td>\n",
              "      <td>16.4</td>\n",
              "      <td>57.0</td>\n",
              "      <td>58.0</td>\n",
              "      <td>56.0</td>\n",
              "      <td>3.1</td>\n",
              "      <td>110.0</td>\n",
              "      <td>7.5</td>\n",
              "    </tr>\n",
              "  </tbody>\n",
              "</table>\n",
              "</div>"
            ],
            "text/plain": [
              "   wsid         wsnm   elvt       lat        lon  ...  hmax  hmin wdsp   wdct  gust\n",
              "0   178  SÃO GONÇALO  237.0 -6.835777 -38.311583  ...  58.0  32.0  3.2  101.0   6.5\n",
              "1   178  SÃO GONÇALO  237.0 -6.835777 -38.311583  ...  39.0  35.0  3.6   94.0   6.4\n",
              "2   178  SÃO GONÇALO  237.0 -6.835777 -38.311583  ...  44.0  39.0  2.5   93.0   6.9\n",
              "3   178  SÃO GONÇALO  237.0 -6.835777 -38.311583  ...  58.0  44.0  1.7   96.0   5.8\n",
              "4   178  SÃO GONÇALO  237.0 -6.835777 -38.311583  ...  58.0  56.0  3.1  110.0   7.5\n",
              "\n",
              "[5 rows x 26 columns]"
            ]
          },
          "metadata": {
            "tags": []
          },
          "execution_count": 192
        }
      ]
    },
    {
      "cell_type": "code",
      "metadata": {
        "id": "7mSYsnJPBzGp",
        "colab_type": "code",
        "colab": {
          "base_uri": "https://localhost:8080/",
          "height": 34
        },
        "outputId": "f04db5ee-9cf3-47ba-d66d-cf4dc0369730"
      },
      "source": [
        "# todas do rio de janeiro\n",
        "df1.prov.unique()"
      ],
      "execution_count": 193,
      "outputs": [
        {
          "output_type": "execute_result",
          "data": {
            "text/plain": [
              "array(['RJ'], dtype=object)"
            ]
          },
          "metadata": {
            "tags": []
          },
          "execution_count": 193
        }
      ]
    },
    {
      "cell_type": "code",
      "metadata": {
        "id": "0RT5Kp2SCGlO",
        "colab_type": "code",
        "colab": {
          "base_uri": "https://localhost:8080/",
          "height": 34
        },
        "outputId": "bacf0b9a-fb90-4e76-9653-92aa2b353d04"
      },
      "source": [
        "# e da estacao de sao goncalo\n",
        "df1.wsnm.unique()"
      ],
      "execution_count": 194,
      "outputs": [
        {
          "output_type": "execute_result",
          "data": {
            "text/plain": [
              "array(['SÃO GONÇALO'], dtype=object)"
            ]
          },
          "metadata": {
            "tags": []
          },
          "execution_count": 194
        }
      ]
    },
    {
      "cell_type": "code",
      "metadata": {
        "id": "21YdE7nBGEYQ",
        "colab_type": "code",
        "colab": {
          "base_uri": "https://localhost:8080/",
          "height": 34
        },
        "outputId": "793359ee-8740-40c6-9d68-0951c536618f"
      },
      "source": [
        "df1.wsid.unique()"
      ],
      "execution_count": 195,
      "outputs": [
        {
          "output_type": "execute_result",
          "data": {
            "text/plain": [
              "array([178])"
            ]
          },
          "metadata": {
            "tags": []
          },
          "execution_count": 195
        }
      ]
    },
    {
      "cell_type": "code",
      "metadata": {
        "id": "LoA_ExIyGvSa",
        "colab_type": "code",
        "colab": {
          "base_uri": "https://localhost:8080/",
          "height": 34
        },
        "outputId": "d87bc249-6dcf-4a7a-aad8-a40d07323b03"
      },
      "source": [
        "df1.elvt.unique()"
      ],
      "execution_count": 196,
      "outputs": [
        {
          "output_type": "execute_result",
          "data": {
            "text/plain": [
              "array([237.])"
            ]
          },
          "metadata": {
            "tags": []
          },
          "execution_count": 196
        }
      ]
    },
    {
      "cell_type": "code",
      "metadata": {
        "id": "V3lRM337GzUC",
        "colab_type": "code",
        "colab": {
          "base_uri": "https://localhost:8080/",
          "height": 34
        },
        "outputId": "dcd1b980-5888-44ee-d792-366e104a594d"
      },
      "source": [
        "df1.lat.unique()"
      ],
      "execution_count": 197,
      "outputs": [
        {
          "output_type": "execute_result",
          "data": {
            "text/plain": [
              "array([-6.835777])"
            ]
          },
          "metadata": {
            "tags": []
          },
          "execution_count": 197
        }
      ]
    },
    {
      "cell_type": "code",
      "metadata": {
        "id": "upH2AnCRGt2i",
        "colab_type": "code",
        "colab": {}
      },
      "source": [
        "# por conta disso irei removar informacoes sobre o id elevacao e latidude\n",
        "df1.drop(columns=['wsid', 'wsnm', 'elvt', 'lat', 'lon'], inplace=True)"
      ],
      "execution_count": 0,
      "outputs": []
    },
    {
      "cell_type": "code",
      "metadata": {
        "id": "8h2Vpao9Helu",
        "colab_type": "code",
        "colab": {
          "base_uri": "https://localhost:8080/",
          "height": 206
        },
        "outputId": "7594b1c2-c4ae-48a9-8f29-dc8192a130ac"
      },
      "source": [
        "df1.head()"
      ],
      "execution_count": 199,
      "outputs": [
        {
          "output_type": "execute_result",
          "data": {
            "text/html": [
              "<div>\n",
              "<style scoped>\n",
              "    .dataframe tbody tr th:only-of-type {\n",
              "        vertical-align: middle;\n",
              "    }\n",
              "\n",
              "    .dataframe tbody tr th {\n",
              "        vertical-align: top;\n",
              "    }\n",
              "\n",
              "    .dataframe thead th {\n",
              "        text-align: right;\n",
              "    }\n",
              "</style>\n",
              "<table border=\"1\" class=\"dataframe\">\n",
              "  <thead>\n",
              "    <tr style=\"text-align: right;\">\n",
              "      <th></th>\n",
              "      <th>inme</th>\n",
              "      <th>city</th>\n",
              "      <th>prov</th>\n",
              "      <th>mdct</th>\n",
              "      <th>prcp</th>\n",
              "      <th>stp</th>\n",
              "      <th>smax</th>\n",
              "      <th>smin</th>\n",
              "      <th>gbrd</th>\n",
              "      <th>temp</th>\n",
              "      <th>dewp</th>\n",
              "      <th>tmax</th>\n",
              "      <th>dmax</th>\n",
              "      <th>tmin</th>\n",
              "      <th>dmin</th>\n",
              "      <th>hmdy</th>\n",
              "      <th>hmax</th>\n",
              "      <th>hmin</th>\n",
              "      <th>wdsp</th>\n",
              "      <th>wdct</th>\n",
              "      <th>gust</th>\n",
              "    </tr>\n",
              "  </thead>\n",
              "  <tbody>\n",
              "    <tr>\n",
              "      <th>0</th>\n",
              "      <td>A333</td>\n",
              "      <td>São Gonçalo</td>\n",
              "      <td>RJ</td>\n",
              "      <td>2007-11-06 00:00:00</td>\n",
              "      <td>NaN</td>\n",
              "      <td>982.5</td>\n",
              "      <td>982.5</td>\n",
              "      <td>981.3</td>\n",
              "      <td>NaN</td>\n",
              "      <td>29.3</td>\n",
              "      <td>12.1</td>\n",
              "      <td>29.7</td>\n",
              "      <td>16.8</td>\n",
              "      <td>25.5</td>\n",
              "      <td>10.8</td>\n",
              "      <td>35.0</td>\n",
              "      <td>58.0</td>\n",
              "      <td>32.0</td>\n",
              "      <td>3.2</td>\n",
              "      <td>101.0</td>\n",
              "      <td>6.5</td>\n",
              "    </tr>\n",
              "    <tr>\n",
              "      <th>1</th>\n",
              "      <td>A333</td>\n",
              "      <td>São Gonçalo</td>\n",
              "      <td>RJ</td>\n",
              "      <td>2007-11-06 01:00:00</td>\n",
              "      <td>NaN</td>\n",
              "      <td>983.2</td>\n",
              "      <td>983.2</td>\n",
              "      <td>982.5</td>\n",
              "      <td>NaN</td>\n",
              "      <td>29.0</td>\n",
              "      <td>13.5</td>\n",
              "      <td>29.9</td>\n",
              "      <td>13.6</td>\n",
              "      <td>29.0</td>\n",
              "      <td>12.2</td>\n",
              "      <td>39.0</td>\n",
              "      <td>39.0</td>\n",
              "      <td>35.0</td>\n",
              "      <td>3.6</td>\n",
              "      <td>94.0</td>\n",
              "      <td>6.4</td>\n",
              "    </tr>\n",
              "    <tr>\n",
              "      <th>2</th>\n",
              "      <td>A333</td>\n",
              "      <td>São Gonçalo</td>\n",
              "      <td>RJ</td>\n",
              "      <td>2007-11-06 02:00:00</td>\n",
              "      <td>NaN</td>\n",
              "      <td>983.5</td>\n",
              "      <td>983.5</td>\n",
              "      <td>983.2</td>\n",
              "      <td>NaN</td>\n",
              "      <td>27.4</td>\n",
              "      <td>14.0</td>\n",
              "      <td>29.0</td>\n",
              "      <td>14.0</td>\n",
              "      <td>27.4</td>\n",
              "      <td>13.6</td>\n",
              "      <td>44.0</td>\n",
              "      <td>44.0</td>\n",
              "      <td>39.0</td>\n",
              "      <td>2.5</td>\n",
              "      <td>93.0</td>\n",
              "      <td>6.9</td>\n",
              "    </tr>\n",
              "    <tr>\n",
              "      <th>3</th>\n",
              "      <td>A333</td>\n",
              "      <td>São Gonçalo</td>\n",
              "      <td>RJ</td>\n",
              "      <td>2007-11-06 03:00:00</td>\n",
              "      <td>NaN</td>\n",
              "      <td>983.7</td>\n",
              "      <td>983.7</td>\n",
              "      <td>983.4</td>\n",
              "      <td>NaN</td>\n",
              "      <td>25.8</td>\n",
              "      <td>16.9</td>\n",
              "      <td>27.4</td>\n",
              "      <td>16.9</td>\n",
              "      <td>25.8</td>\n",
              "      <td>14.1</td>\n",
              "      <td>58.0</td>\n",
              "      <td>58.0</td>\n",
              "      <td>44.0</td>\n",
              "      <td>1.7</td>\n",
              "      <td>96.0</td>\n",
              "      <td>5.8</td>\n",
              "    </tr>\n",
              "    <tr>\n",
              "      <th>4</th>\n",
              "      <td>A333</td>\n",
              "      <td>São Gonçalo</td>\n",
              "      <td>RJ</td>\n",
              "      <td>2007-11-06 04:00:00</td>\n",
              "      <td>NaN</td>\n",
              "      <td>983.7</td>\n",
              "      <td>983.8</td>\n",
              "      <td>983.6</td>\n",
              "      <td>NaN</td>\n",
              "      <td>25.4</td>\n",
              "      <td>16.4</td>\n",
              "      <td>26.3</td>\n",
              "      <td>17.0</td>\n",
              "      <td>25.3</td>\n",
              "      <td>16.4</td>\n",
              "      <td>57.0</td>\n",
              "      <td>58.0</td>\n",
              "      <td>56.0</td>\n",
              "      <td>3.1</td>\n",
              "      <td>110.0</td>\n",
              "      <td>7.5</td>\n",
              "    </tr>\n",
              "  </tbody>\n",
              "</table>\n",
              "</div>"
            ],
            "text/plain": [
              "   inme         city prov                 mdct  ...  hmin  wdsp   wdct  gust\n",
              "0  A333  São Gonçalo   RJ  2007-11-06 00:00:00  ...  32.0   3.2  101.0   6.5\n",
              "1  A333  São Gonçalo   RJ  2007-11-06 01:00:00  ...  35.0   3.6   94.0   6.4\n",
              "2  A333  São Gonçalo   RJ  2007-11-06 02:00:00  ...  39.0   2.5   93.0   6.9\n",
              "3  A333  São Gonçalo   RJ  2007-11-06 03:00:00  ...  44.0   1.7   96.0   5.8\n",
              "4  A333  São Gonçalo   RJ  2007-11-06 04:00:00  ...  56.0   3.1  110.0   7.5\n",
              "\n",
              "[5 rows x 21 columns]"
            ]
          },
          "metadata": {
            "tags": []
          },
          "execution_count": 199
        }
      ]
    },
    {
      "cell_type": "code",
      "metadata": {
        "id": "MM06-l1qHf_X",
        "colab_type": "code",
        "colab": {
          "base_uri": "https://localhost:8080/",
          "height": 399
        },
        "outputId": "864e98ac-db14-4320-8a1d-d7abe95cf8a3"
      },
      "source": [
        "df1.isna().sum()"
      ],
      "execution_count": 200,
      "outputs": [
        {
          "output_type": "execute_result",
          "data": {
            "text/plain": [
              "inme       0\n",
              "city       0\n",
              "prov       0\n",
              "mdct       0\n",
              "prcp    9012\n",
              "stp        1\n",
              "smax       1\n",
              "smin       1\n",
              "gbrd    6809\n",
              "temp       1\n",
              "dewp       1\n",
              "tmax       1\n",
              "dmax       1\n",
              "tmin       1\n",
              "dmin       1\n",
              "hmdy       1\n",
              "hmax       1\n",
              "hmin       1\n",
              "wdsp    1118\n",
              "wdct       1\n",
              "gust     229\n",
              "dtype: int64"
            ]
          },
          "metadata": {
            "tags": []
          },
          "execution_count": 200
        }
      ]
    },
    {
      "cell_type": "code",
      "metadata": {
        "id": "8FU54eP5HpT1",
        "colab_type": "code",
        "colab": {
          "base_uri": "https://localhost:8080/",
          "height": 469
        },
        "outputId": "0a7c5b03-6e22-4f38-cef9-8d673acdf214"
      },
      "source": [
        "df1.info()"
      ],
      "execution_count": 201,
      "outputs": [
        {
          "output_type": "stream",
          "text": [
            "<class 'pandas.core.frame.DataFrame'>\n",
            "Int64Index: 16329 entries, 0 to 16328\n",
            "Data columns (total 21 columns):\n",
            "inme    16329 non-null object\n",
            "city    16329 non-null object\n",
            "prov    16329 non-null object\n",
            "mdct    16329 non-null object\n",
            "prcp    7317 non-null float64\n",
            "stp     16328 non-null float64\n",
            "smax    16328 non-null float64\n",
            "smin    16328 non-null float64\n",
            "gbrd    9520 non-null float64\n",
            "temp    16328 non-null float64\n",
            "dewp    16328 non-null float64\n",
            "tmax    16328 non-null float64\n",
            "dmax    16328 non-null float64\n",
            "tmin    16328 non-null float64\n",
            "dmin    16328 non-null float64\n",
            "hmdy    16328 non-null float64\n",
            "hmax    16328 non-null float64\n",
            "hmin    16328 non-null float64\n",
            "wdsp    15211 non-null float64\n",
            "wdct    16328 non-null float64\n",
            "gust    16100 non-null float64\n",
            "dtypes: float64(17), object(4)\n",
            "memory usage: 2.7+ MB\n"
          ],
          "name": "stdout"
        }
      ]
    },
    {
      "cell_type": "code",
      "metadata": {
        "id": "_-xsypn2HrlA",
        "colab_type": "code",
        "colab": {}
      },
      "source": [
        "df1.inme = df1.inme.astype('category')\n",
        "df1.city = df1.city.astype('category')\n",
        "df1.prov = df1.prov.astype('category')"
      ],
      "execution_count": 0,
      "outputs": []
    },
    {
      "cell_type": "code",
      "metadata": {
        "id": "9GEt-2V4H7T4",
        "colab_type": "code",
        "colab": {
          "base_uri": "https://localhost:8080/",
          "height": 469
        },
        "outputId": "7c7dd16e-f96f-41bd-fcde-f974ae16eb15"
      },
      "source": [
        "df1.info()"
      ],
      "execution_count": 203,
      "outputs": [
        {
          "output_type": "stream",
          "text": [
            "<class 'pandas.core.frame.DataFrame'>\n",
            "Int64Index: 16329 entries, 0 to 16328\n",
            "Data columns (total 21 columns):\n",
            "inme    16329 non-null category\n",
            "city    16329 non-null category\n",
            "prov    16329 non-null category\n",
            "mdct    16329 non-null object\n",
            "prcp    7317 non-null float64\n",
            "stp     16328 non-null float64\n",
            "smax    16328 non-null float64\n",
            "smin    16328 non-null float64\n",
            "gbrd    9520 non-null float64\n",
            "temp    16328 non-null float64\n",
            "dewp    16328 non-null float64\n",
            "tmax    16328 non-null float64\n",
            "dmax    16328 non-null float64\n",
            "tmin    16328 non-null float64\n",
            "dmin    16328 non-null float64\n",
            "hmdy    16328 non-null float64\n",
            "hmax    16328 non-null float64\n",
            "hmin    16328 non-null float64\n",
            "wdsp    15211 non-null float64\n",
            "wdct    16328 non-null float64\n",
            "gust    16100 non-null float64\n",
            "dtypes: category(3), float64(17), object(1)\n",
            "memory usage: 2.4+ MB\n"
          ],
          "name": "stdout"
        }
      ]
    },
    {
      "cell_type": "code",
      "metadata": {
        "id": "XABpq3zaJB4m",
        "colab_type": "code",
        "colab": {}
      },
      "source": [
        "df1.prcp.fillna(0, inplace=True)\n",
        "df1.gbrd.fillna(0, inplace=True)"
      ],
      "execution_count": 0,
      "outputs": []
    },
    {
      "cell_type": "code",
      "metadata": {
        "id": "QsdKNWRYJNxP",
        "colab_type": "code",
        "colab": {
          "base_uri": "https://localhost:8080/",
          "height": 399
        },
        "outputId": "9e3ed94b-4406-415d-eabb-aefd57fad17e"
      },
      "source": [
        "df1.isna().sum()"
      ],
      "execution_count": 208,
      "outputs": [
        {
          "output_type": "execute_result",
          "data": {
            "text/plain": [
              "inme       0\n",
              "city       0\n",
              "prov       0\n",
              "mdct       0\n",
              "prcp       0\n",
              "stp        1\n",
              "smax       1\n",
              "smin       1\n",
              "gbrd       0\n",
              "temp       1\n",
              "dewp       1\n",
              "tmax       1\n",
              "dmax       1\n",
              "tmin       1\n",
              "dmin       1\n",
              "hmdy       1\n",
              "hmax       1\n",
              "hmin       1\n",
              "wdsp    1118\n",
              "wdct       1\n",
              "gust     229\n",
              "dtype: int64"
            ]
          },
          "metadata": {
            "tags": []
          },
          "execution_count": 208
        }
      ]
    },
    {
      "cell_type": "code",
      "metadata": {
        "id": "2_v8Li6fJO2S",
        "colab_type": "code",
        "colab": {
          "base_uri": "https://localhost:8080/",
          "height": 81
        },
        "outputId": "d7e5b86b-73fe-45c4-bee5-bbc90da306c4"
      },
      "source": [
        "df1[df1.smax.isna()]"
      ],
      "execution_count": 210,
      "outputs": [
        {
          "output_type": "execute_result",
          "data": {
            "text/html": [
              "<div>\n",
              "<style scoped>\n",
              "    .dataframe tbody tr th:only-of-type {\n",
              "        vertical-align: middle;\n",
              "    }\n",
              "\n",
              "    .dataframe tbody tr th {\n",
              "        vertical-align: top;\n",
              "    }\n",
              "\n",
              "    .dataframe thead th {\n",
              "        text-align: right;\n",
              "    }\n",
              "</style>\n",
              "<table border=\"1\" class=\"dataframe\">\n",
              "  <thead>\n",
              "    <tr style=\"text-align: right;\">\n",
              "      <th></th>\n",
              "      <th>inme</th>\n",
              "      <th>city</th>\n",
              "      <th>prov</th>\n",
              "      <th>mdct</th>\n",
              "      <th>prcp</th>\n",
              "      <th>stp</th>\n",
              "      <th>smax</th>\n",
              "      <th>smin</th>\n",
              "      <th>gbrd</th>\n",
              "      <th>temp</th>\n",
              "      <th>dewp</th>\n",
              "      <th>tmax</th>\n",
              "      <th>dmax</th>\n",
              "      <th>tmin</th>\n",
              "      <th>dmin</th>\n",
              "      <th>hmdy</th>\n",
              "      <th>hmax</th>\n",
              "      <th>hmin</th>\n",
              "      <th>wdsp</th>\n",
              "      <th>wdct</th>\n",
              "      <th>gust</th>\n",
              "    </tr>\n",
              "  </thead>\n",
              "  <tbody>\n",
              "    <tr>\n",
              "      <th>16328</th>\n",
              "      <td>A333</td>\n",
              "      <td>São Gonçalo</td>\n",
              "      <td>RJ</td>\n",
              "      <td>2009-09-16 08:00:00</td>\n",
              "      <td>0.0</td>\n",
              "      <td>NaN</td>\n",
              "      <td>NaN</td>\n",
              "      <td>NaN</td>\n",
              "      <td>0.0</td>\n",
              "      <td>NaN</td>\n",
              "      <td>NaN</td>\n",
              "      <td>NaN</td>\n",
              "      <td>NaN</td>\n",
              "      <td>NaN</td>\n",
              "      <td>NaN</td>\n",
              "      <td>NaN</td>\n",
              "      <td>NaN</td>\n",
              "      <td>NaN</td>\n",
              "      <td>NaN</td>\n",
              "      <td>NaN</td>\n",
              "      <td>NaN</td>\n",
              "    </tr>\n",
              "  </tbody>\n",
              "</table>\n",
              "</div>"
            ],
            "text/plain": [
              "       inme         city prov                 mdct  ...  hmin  wdsp  wdct  gust\n",
              "16328  A333  São Gonçalo   RJ  2009-09-16 08:00:00  ...   NaN   NaN   NaN   NaN\n",
              "\n",
              "[1 rows x 21 columns]"
            ]
          },
          "metadata": {
            "tags": []
          },
          "execution_count": 210
        }
      ]
    },
    {
      "cell_type": "code",
      "metadata": {
        "id": "_ORtv0gmJdvC",
        "colab_type": "code",
        "colab": {}
      },
      "source": [
        "df1.drop(index=16328, inplace=True)"
      ],
      "execution_count": 0,
      "outputs": []
    },
    {
      "cell_type": "code",
      "metadata": {
        "id": "Fw13a8xKJsHE",
        "colab_type": "code",
        "colab": {
          "base_uri": "https://localhost:8080/",
          "height": 399
        },
        "outputId": "03e8dfe2-94e8-48ec-97a3-2b322291219a"
      },
      "source": [
        "df1.isna().sum()"
      ],
      "execution_count": 228,
      "outputs": [
        {
          "output_type": "execute_result",
          "data": {
            "text/plain": [
              "inme       0\n",
              "city       0\n",
              "prov       0\n",
              "mdct       0\n",
              "prcp       0\n",
              "stp        0\n",
              "smax       0\n",
              "smin       0\n",
              "gbrd       0\n",
              "temp       0\n",
              "dewp       0\n",
              "tmax       0\n",
              "dmax       0\n",
              "tmin       0\n",
              "dmin       0\n",
              "hmdy       0\n",
              "hmax       0\n",
              "hmin       0\n",
              "wdsp    1117\n",
              "wdct       0\n",
              "gust     228\n",
              "dtype: int64"
            ]
          },
          "metadata": {
            "tags": []
          },
          "execution_count": 228
        }
      ]
    },
    {
      "cell_type": "code",
      "metadata": {
        "id": "Y6BtFj5DJt0w",
        "colab_type": "code",
        "colab": {
          "base_uri": "https://localhost:8080/",
          "height": 206
        },
        "outputId": "50bc92f8-f228-4efd-aa36-39460e578522"
      },
      "source": [
        "df1.head()"
      ],
      "execution_count": 229,
      "outputs": [
        {
          "output_type": "execute_result",
          "data": {
            "text/html": [
              "<div>\n",
              "<style scoped>\n",
              "    .dataframe tbody tr th:only-of-type {\n",
              "        vertical-align: middle;\n",
              "    }\n",
              "\n",
              "    .dataframe tbody tr th {\n",
              "        vertical-align: top;\n",
              "    }\n",
              "\n",
              "    .dataframe thead th {\n",
              "        text-align: right;\n",
              "    }\n",
              "</style>\n",
              "<table border=\"1\" class=\"dataframe\">\n",
              "  <thead>\n",
              "    <tr style=\"text-align: right;\">\n",
              "      <th></th>\n",
              "      <th>inme</th>\n",
              "      <th>city</th>\n",
              "      <th>prov</th>\n",
              "      <th>mdct</th>\n",
              "      <th>prcp</th>\n",
              "      <th>stp</th>\n",
              "      <th>smax</th>\n",
              "      <th>smin</th>\n",
              "      <th>gbrd</th>\n",
              "      <th>temp</th>\n",
              "      <th>dewp</th>\n",
              "      <th>tmax</th>\n",
              "      <th>dmax</th>\n",
              "      <th>tmin</th>\n",
              "      <th>dmin</th>\n",
              "      <th>hmdy</th>\n",
              "      <th>hmax</th>\n",
              "      <th>hmin</th>\n",
              "      <th>wdsp</th>\n",
              "      <th>wdct</th>\n",
              "      <th>gust</th>\n",
              "    </tr>\n",
              "  </thead>\n",
              "  <tbody>\n",
              "    <tr>\n",
              "      <th>0</th>\n",
              "      <td>A333</td>\n",
              "      <td>São Gonçalo</td>\n",
              "      <td>RJ</td>\n",
              "      <td>2007-11-06 00:00:00</td>\n",
              "      <td>0.0</td>\n",
              "      <td>982.5</td>\n",
              "      <td>982.5</td>\n",
              "      <td>981.3</td>\n",
              "      <td>0.0</td>\n",
              "      <td>29.3</td>\n",
              "      <td>12.1</td>\n",
              "      <td>29.7</td>\n",
              "      <td>16.8</td>\n",
              "      <td>25.5</td>\n",
              "      <td>10.8</td>\n",
              "      <td>35.0</td>\n",
              "      <td>58.0</td>\n",
              "      <td>32.0</td>\n",
              "      <td>3.2</td>\n",
              "      <td>101.0</td>\n",
              "      <td>6.5</td>\n",
              "    </tr>\n",
              "    <tr>\n",
              "      <th>1</th>\n",
              "      <td>A333</td>\n",
              "      <td>São Gonçalo</td>\n",
              "      <td>RJ</td>\n",
              "      <td>2007-11-06 01:00:00</td>\n",
              "      <td>0.0</td>\n",
              "      <td>983.2</td>\n",
              "      <td>983.2</td>\n",
              "      <td>982.5</td>\n",
              "      <td>0.0</td>\n",
              "      <td>29.0</td>\n",
              "      <td>13.5</td>\n",
              "      <td>29.9</td>\n",
              "      <td>13.6</td>\n",
              "      <td>29.0</td>\n",
              "      <td>12.2</td>\n",
              "      <td>39.0</td>\n",
              "      <td>39.0</td>\n",
              "      <td>35.0</td>\n",
              "      <td>3.6</td>\n",
              "      <td>94.0</td>\n",
              "      <td>6.4</td>\n",
              "    </tr>\n",
              "    <tr>\n",
              "      <th>2</th>\n",
              "      <td>A333</td>\n",
              "      <td>São Gonçalo</td>\n",
              "      <td>RJ</td>\n",
              "      <td>2007-11-06 02:00:00</td>\n",
              "      <td>0.0</td>\n",
              "      <td>983.5</td>\n",
              "      <td>983.5</td>\n",
              "      <td>983.2</td>\n",
              "      <td>0.0</td>\n",
              "      <td>27.4</td>\n",
              "      <td>14.0</td>\n",
              "      <td>29.0</td>\n",
              "      <td>14.0</td>\n",
              "      <td>27.4</td>\n",
              "      <td>13.6</td>\n",
              "      <td>44.0</td>\n",
              "      <td>44.0</td>\n",
              "      <td>39.0</td>\n",
              "      <td>2.5</td>\n",
              "      <td>93.0</td>\n",
              "      <td>6.9</td>\n",
              "    </tr>\n",
              "    <tr>\n",
              "      <th>3</th>\n",
              "      <td>A333</td>\n",
              "      <td>São Gonçalo</td>\n",
              "      <td>RJ</td>\n",
              "      <td>2007-11-06 03:00:00</td>\n",
              "      <td>0.0</td>\n",
              "      <td>983.7</td>\n",
              "      <td>983.7</td>\n",
              "      <td>983.4</td>\n",
              "      <td>0.0</td>\n",
              "      <td>25.8</td>\n",
              "      <td>16.9</td>\n",
              "      <td>27.4</td>\n",
              "      <td>16.9</td>\n",
              "      <td>25.8</td>\n",
              "      <td>14.1</td>\n",
              "      <td>58.0</td>\n",
              "      <td>58.0</td>\n",
              "      <td>44.0</td>\n",
              "      <td>1.7</td>\n",
              "      <td>96.0</td>\n",
              "      <td>5.8</td>\n",
              "    </tr>\n",
              "    <tr>\n",
              "      <th>4</th>\n",
              "      <td>A333</td>\n",
              "      <td>São Gonçalo</td>\n",
              "      <td>RJ</td>\n",
              "      <td>2007-11-06 04:00:00</td>\n",
              "      <td>0.0</td>\n",
              "      <td>983.7</td>\n",
              "      <td>983.8</td>\n",
              "      <td>983.6</td>\n",
              "      <td>0.0</td>\n",
              "      <td>25.4</td>\n",
              "      <td>16.4</td>\n",
              "      <td>26.3</td>\n",
              "      <td>17.0</td>\n",
              "      <td>25.3</td>\n",
              "      <td>16.4</td>\n",
              "      <td>57.0</td>\n",
              "      <td>58.0</td>\n",
              "      <td>56.0</td>\n",
              "      <td>3.1</td>\n",
              "      <td>110.0</td>\n",
              "      <td>7.5</td>\n",
              "    </tr>\n",
              "  </tbody>\n",
              "</table>\n",
              "</div>"
            ],
            "text/plain": [
              "   inme         city prov                 mdct  ...  hmin  wdsp   wdct  gust\n",
              "0  A333  São Gonçalo   RJ  2007-11-06 00:00:00  ...  32.0   3.2  101.0   6.5\n",
              "1  A333  São Gonçalo   RJ  2007-11-06 01:00:00  ...  35.0   3.6   94.0   6.4\n",
              "2  A333  São Gonçalo   RJ  2007-11-06 02:00:00  ...  39.0   2.5   93.0   6.9\n",
              "3  A333  São Gonçalo   RJ  2007-11-06 03:00:00  ...  44.0   1.7   96.0   5.8\n",
              "4  A333  São Gonçalo   RJ  2007-11-06 04:00:00  ...  56.0   3.1  110.0   7.5\n",
              "\n",
              "[5 rows x 21 columns]"
            ]
          },
          "metadata": {
            "tags": []
          },
          "execution_count": 229
        }
      ]
    },
    {
      "cell_type": "code",
      "metadata": {
        "id": "-IiovBqTK9bE",
        "colab_type": "code",
        "colab": {}
      },
      "source": [
        "df1.mdct = pd.to_datetime(df1.mdct)"
      ],
      "execution_count": 0,
      "outputs": []
    },
    {
      "cell_type": "code",
      "metadata": {
        "id": "GyVLDJJBLKYp",
        "colab_type": "code",
        "colab": {
          "base_uri": "https://localhost:8080/",
          "height": 225
        },
        "outputId": "80f7bc22-efa6-4f4f-9b4e-027c9aaedb04"
      },
      "source": [
        "df1.mdct"
      ],
      "execution_count": 234,
      "outputs": [
        {
          "output_type": "execute_result",
          "data": {
            "text/plain": [
              "0       2007-11-06 00:00:00\n",
              "1       2007-11-06 01:00:00\n",
              "2       2007-11-06 02:00:00\n",
              "3       2007-11-06 03:00:00\n",
              "4       2007-11-06 04:00:00\n",
              "                ...        \n",
              "16323   2009-09-16 03:00:00\n",
              "16324   2009-09-16 04:00:00\n",
              "16325   2009-09-16 05:00:00\n",
              "16326   2009-09-16 06:00:00\n",
              "16327   2009-09-16 07:00:00\n",
              "Name: mdct, Length: 16328, dtype: datetime64[ns]"
            ]
          },
          "metadata": {
            "tags": []
          },
          "execution_count": 234
        }
      ]
    },
    {
      "cell_type": "code",
      "metadata": {
        "id": "VOrIb8DYLgdw",
        "colab_type": "code",
        "colab": {}
      },
      "source": [
        "df1.index = df1.mdct\n",
        "df1.drop(columns='mdct', inplace=True)"
      ],
      "execution_count": 0,
      "outputs": []
    },
    {
      "cell_type": "code",
      "metadata": {
        "id": "43jTTOSGLknz",
        "colab_type": "code",
        "colab": {
          "base_uri": "https://localhost:8080/",
          "height": 238
        },
        "outputId": "0cd0e604-106a-4501-e2a0-ffc2640ecc0a"
      },
      "source": [
        "df1.head()"
      ],
      "execution_count": 269,
      "outputs": [
        {
          "output_type": "execute_result",
          "data": {
            "text/html": [
              "<div>\n",
              "<style scoped>\n",
              "    .dataframe tbody tr th:only-of-type {\n",
              "        vertical-align: middle;\n",
              "    }\n",
              "\n",
              "    .dataframe tbody tr th {\n",
              "        vertical-align: top;\n",
              "    }\n",
              "\n",
              "    .dataframe thead th {\n",
              "        text-align: right;\n",
              "    }\n",
              "</style>\n",
              "<table border=\"1\" class=\"dataframe\">\n",
              "  <thead>\n",
              "    <tr style=\"text-align: right;\">\n",
              "      <th></th>\n",
              "      <th>inme</th>\n",
              "      <th>city</th>\n",
              "      <th>prov</th>\n",
              "      <th>prcp</th>\n",
              "      <th>stp</th>\n",
              "      <th>smax</th>\n",
              "      <th>smin</th>\n",
              "      <th>gbrd</th>\n",
              "      <th>temp</th>\n",
              "      <th>dewp</th>\n",
              "      <th>tmax</th>\n",
              "      <th>dmax</th>\n",
              "      <th>tmin</th>\n",
              "      <th>dmin</th>\n",
              "      <th>hmdy</th>\n",
              "      <th>hmax</th>\n",
              "      <th>hmin</th>\n",
              "      <th>wdsp</th>\n",
              "      <th>wdct</th>\n",
              "      <th>gust</th>\n",
              "    </tr>\n",
              "    <tr>\n",
              "      <th>mdct</th>\n",
              "      <th></th>\n",
              "      <th></th>\n",
              "      <th></th>\n",
              "      <th></th>\n",
              "      <th></th>\n",
              "      <th></th>\n",
              "      <th></th>\n",
              "      <th></th>\n",
              "      <th></th>\n",
              "      <th></th>\n",
              "      <th></th>\n",
              "      <th></th>\n",
              "      <th></th>\n",
              "      <th></th>\n",
              "      <th></th>\n",
              "      <th></th>\n",
              "      <th></th>\n",
              "      <th></th>\n",
              "      <th></th>\n",
              "      <th></th>\n",
              "    </tr>\n",
              "  </thead>\n",
              "  <tbody>\n",
              "    <tr>\n",
              "      <th>2007-11-06 00:00:00</th>\n",
              "      <td>A333</td>\n",
              "      <td>São Gonçalo</td>\n",
              "      <td>RJ</td>\n",
              "      <td>0.0</td>\n",
              "      <td>982.5</td>\n",
              "      <td>982.5</td>\n",
              "      <td>981.3</td>\n",
              "      <td>0.0</td>\n",
              "      <td>29.3</td>\n",
              "      <td>12.1</td>\n",
              "      <td>29.7</td>\n",
              "      <td>16.8</td>\n",
              "      <td>25.5</td>\n",
              "      <td>10.8</td>\n",
              "      <td>35.0</td>\n",
              "      <td>58.0</td>\n",
              "      <td>32.0</td>\n",
              "      <td>3.2</td>\n",
              "      <td>101.0</td>\n",
              "      <td>6.5</td>\n",
              "    </tr>\n",
              "    <tr>\n",
              "      <th>2007-11-06 01:00:00</th>\n",
              "      <td>A333</td>\n",
              "      <td>São Gonçalo</td>\n",
              "      <td>RJ</td>\n",
              "      <td>0.0</td>\n",
              "      <td>983.2</td>\n",
              "      <td>983.2</td>\n",
              "      <td>982.5</td>\n",
              "      <td>0.0</td>\n",
              "      <td>29.0</td>\n",
              "      <td>13.5</td>\n",
              "      <td>29.9</td>\n",
              "      <td>13.6</td>\n",
              "      <td>29.0</td>\n",
              "      <td>12.2</td>\n",
              "      <td>39.0</td>\n",
              "      <td>39.0</td>\n",
              "      <td>35.0</td>\n",
              "      <td>3.6</td>\n",
              "      <td>94.0</td>\n",
              "      <td>6.4</td>\n",
              "    </tr>\n",
              "    <tr>\n",
              "      <th>2007-11-06 02:00:00</th>\n",
              "      <td>A333</td>\n",
              "      <td>São Gonçalo</td>\n",
              "      <td>RJ</td>\n",
              "      <td>0.0</td>\n",
              "      <td>983.5</td>\n",
              "      <td>983.5</td>\n",
              "      <td>983.2</td>\n",
              "      <td>0.0</td>\n",
              "      <td>27.4</td>\n",
              "      <td>14.0</td>\n",
              "      <td>29.0</td>\n",
              "      <td>14.0</td>\n",
              "      <td>27.4</td>\n",
              "      <td>13.6</td>\n",
              "      <td>44.0</td>\n",
              "      <td>44.0</td>\n",
              "      <td>39.0</td>\n",
              "      <td>2.5</td>\n",
              "      <td>93.0</td>\n",
              "      <td>6.9</td>\n",
              "    </tr>\n",
              "    <tr>\n",
              "      <th>2007-11-06 03:00:00</th>\n",
              "      <td>A333</td>\n",
              "      <td>São Gonçalo</td>\n",
              "      <td>RJ</td>\n",
              "      <td>0.0</td>\n",
              "      <td>983.7</td>\n",
              "      <td>983.7</td>\n",
              "      <td>983.4</td>\n",
              "      <td>0.0</td>\n",
              "      <td>25.8</td>\n",
              "      <td>16.9</td>\n",
              "      <td>27.4</td>\n",
              "      <td>16.9</td>\n",
              "      <td>25.8</td>\n",
              "      <td>14.1</td>\n",
              "      <td>58.0</td>\n",
              "      <td>58.0</td>\n",
              "      <td>44.0</td>\n",
              "      <td>1.7</td>\n",
              "      <td>96.0</td>\n",
              "      <td>5.8</td>\n",
              "    </tr>\n",
              "    <tr>\n",
              "      <th>2007-11-06 04:00:00</th>\n",
              "      <td>A333</td>\n",
              "      <td>São Gonçalo</td>\n",
              "      <td>RJ</td>\n",
              "      <td>0.0</td>\n",
              "      <td>983.7</td>\n",
              "      <td>983.8</td>\n",
              "      <td>983.6</td>\n",
              "      <td>0.0</td>\n",
              "      <td>25.4</td>\n",
              "      <td>16.4</td>\n",
              "      <td>26.3</td>\n",
              "      <td>17.0</td>\n",
              "      <td>25.3</td>\n",
              "      <td>16.4</td>\n",
              "      <td>57.0</td>\n",
              "      <td>58.0</td>\n",
              "      <td>56.0</td>\n",
              "      <td>3.1</td>\n",
              "      <td>110.0</td>\n",
              "      <td>7.5</td>\n",
              "    </tr>\n",
              "  </tbody>\n",
              "</table>\n",
              "</div>"
            ],
            "text/plain": [
              "                     inme         city prov  prcp  ...  hmin  wdsp   wdct  gust\n",
              "mdct                                               ...                         \n",
              "2007-11-06 00:00:00  A333  São Gonçalo   RJ   0.0  ...  32.0   3.2  101.0   6.5\n",
              "2007-11-06 01:00:00  A333  São Gonçalo   RJ   0.0  ...  35.0   3.6   94.0   6.4\n",
              "2007-11-06 02:00:00  A333  São Gonçalo   RJ   0.0  ...  39.0   2.5   93.0   6.9\n",
              "2007-11-06 03:00:00  A333  São Gonçalo   RJ   0.0  ...  44.0   1.7   96.0   5.8\n",
              "2007-11-06 04:00:00  A333  São Gonçalo   RJ   0.0  ...  56.0   3.1  110.0   7.5\n",
              "\n",
              "[5 rows x 20 columns]"
            ]
          },
          "metadata": {
            "tags": []
          },
          "execution_count": 269
        }
      ]
    },
    {
      "cell_type": "code",
      "metadata": {
        "id": "Oyzw1MT0LlHN",
        "colab_type": "code",
        "colab": {}
      },
      "source": [
        "# salvar dataframe limpo\n",
        "df1.to_csv('dataset/dataset_INMET_sudeste_1000_limpo.csv')"
      ],
      "execution_count": 0,
      "outputs": []
    },
    {
      "cell_type": "markdown",
      "metadata": {
        "id": "ggws4A0xLvCy",
        "colab_type": "text"
      },
      "source": [
        "#### PLOTTING"
      ]
    },
    {
      "cell_type": "code",
      "metadata": {
        "id": "Qt5gQc0yLyAq",
        "colab_type": "code",
        "colab": {
          "base_uri": "https://localhost:8080/",
          "height": 621
        },
        "outputId": "832a3d2c-5d4f-4819-af11-38c04df3502d"
      },
      "source": [
        "plt.figure(figsize=(15,10))\n",
        "\n",
        "plt.plot(df1.mdct, df1.gbrd, alpha=0.5, label='Radição Solar Diária')\n",
        "plt.plot(df1.resample('d', on='mdct').gbrd.mean(), label='Média da Radição Solar Diária')\n",
        "\n",
        "plt.title('Radiaçãão solar ao longo de Janeiro de 2008 a Agosto de 2009')\n",
        "plt.xlabel('Data. Ano/Mes/Dia')\n",
        "plt.ylabel('Radiaçãão Solar')\n",
        "\n",
        "plt.legend()\n",
        "plt.show()"
      ],
      "execution_count": 267,
      "outputs": [
        {
          "output_type": "display_data",
          "data": {
            "image/png": "[encoded data removed]",
            "text/plain": [
              "<Figure size 1080x720 with 1 Axes>"
            ]
          },
          "metadata": {
            "tags": []
          }
        }
      ]
    },
    {
      "cell_type": "code",
      "metadata": {
        "id": "R6plb2YZMlXX",
        "colab_type": "code",
        "colab": {
          "base_uri": "https://localhost:8080/",
          "height": 265
        },
        "outputId": "194da72a-f60f-4423-9449-d30678c8f37f"
      },
      "source": [
        "resample_day_df = df1['2008-01-01':'2008-01-02']\n",
        "plt.plot(resample_day_df.mdct, resample_day_df.gbrd)\n",
        "plt.plot(resample_day_df.resample('d', on='mdct').gbrd.mean())\n",
        "plt.show()"
      ],
      "execution_count": 260,
      "outputs": [
        {
          "output_type": "display_data",
          "data": {
            "image/png": "[encoded data removed]",
            "text/plain": [
              "<Figure size 432x288 with 1 Axes>"
            ]
          },
          "metadata": {
            "tags": []
          }
        }
      ]
    },
    {
      "cell_type": "code",
      "metadata": {
        "id": "Fy5ZWjSrQTCr",
        "colab_type": "code",
        "colab": {}
      },
      "source": [
        "from google.colab import drive\n",
        "drive.mount('/content/drive')"
      ],
      "execution_count": 0,
      "outputs": []
    },
    {
      "cell_type": "code",
      "metadata": {
        "id": "8dPzbeHTNnhp",
        "colab_type": "code",
        "colab": {
          "base_uri": "https://localhost:8080/",
          "height": 163
        },
        "outputId": "91229dac-d09d-47bf-fc9d-8f28e121fad0"
      },
      "source": [
        "resample_day_df.resample('d', on='mdct').mean()"
      ],
      "execution_count": 259,
      "outputs": [
        {
          "output_type": "execute_result",
          "data": {
            "text/html": [
              "<div>\n",
              "<style scoped>\n",
              "    .dataframe tbody tr th:only-of-type {\n",
              "        vertical-align: middle;\n",
              "    }\n",
              "\n",
              "    .dataframe tbody tr th {\n",
              "        vertical-align: top;\n",
              "    }\n",
              "\n",
              "    .dataframe thead th {\n",
              "        text-align: right;\n",
              "    }\n",
              "</style>\n",
              "<table border=\"1\" class=\"dataframe\">\n",
              "  <thead>\n",
              "    <tr style=\"text-align: right;\">\n",
              "      <th></th>\n",
              "      <th>prcp</th>\n",
              "      <th>stp</th>\n",
              "      <th>smax</th>\n",
              "      <th>smin</th>\n",
              "      <th>gbrd</th>\n",
              "      <th>temp</th>\n",
              "      <th>dewp</th>\n",
              "      <th>tmax</th>\n",
              "      <th>dmax</th>\n",
              "      <th>tmin</th>\n",
              "      <th>dmin</th>\n",
              "      <th>hmdy</th>\n",
              "      <th>hmax</th>\n",
              "      <th>hmin</th>\n",
              "      <th>wdsp</th>\n",
              "      <th>wdct</th>\n",
              "      <th>gust</th>\n",
              "    </tr>\n",
              "    <tr>\n",
              "      <th>mdct</th>\n",
              "      <th></th>\n",
              "      <th></th>\n",
              "      <th></th>\n",
              "      <th></th>\n",
              "      <th></th>\n",
              "      <th></th>\n",
              "      <th></th>\n",
              "      <th></th>\n",
              "      <th></th>\n",
              "      <th></th>\n",
              "      <th></th>\n",
              "      <th></th>\n",
              "      <th></th>\n",
              "      <th></th>\n",
              "      <th></th>\n",
              "      <th></th>\n",
              "      <th></th>\n",
              "    </tr>\n",
              "  </thead>\n",
              "  <tbody>\n",
              "    <tr>\n",
              "      <th>2008-01-01</th>\n",
              "      <td>0.0</td>\n",
              "      <td>532.554167</td>\n",
              "      <td>532.779167</td>\n",
              "      <td>532.475000</td>\n",
              "      <td>1045.692792</td>\n",
              "      <td>16.633333</td>\n",
              "      <td>9.679167</td>\n",
              "      <td>17.0875</td>\n",
              "      <td>10.291667</td>\n",
              "      <td>16.050000</td>\n",
              "      <td>9.033333</td>\n",
              "      <td>26.291667</td>\n",
              "      <td>29.083333</td>\n",
              "      <td>23.666667</td>\n",
              "      <td>0.834783</td>\n",
              "      <td>63.625000</td>\n",
              "      <td>2.362500</td>\n",
              "    </tr>\n",
              "    <tr>\n",
              "      <th>2008-01-02</th>\n",
              "      <td>0.0</td>\n",
              "      <td>532.979167</td>\n",
              "      <td>492.108333</td>\n",
              "      <td>491.795833</td>\n",
              "      <td>1119.644958</td>\n",
              "      <td>16.850000</td>\n",
              "      <td>7.862500</td>\n",
              "      <td>16.2125</td>\n",
              "      <td>7.754167</td>\n",
              "      <td>15.233333</td>\n",
              "      <td>6.454167</td>\n",
              "      <td>20.625000</td>\n",
              "      <td>20.375000</td>\n",
              "      <td>16.083333</td>\n",
              "      <td>1.079167</td>\n",
              "      <td>65.416667</td>\n",
              "      <td>2.895833</td>\n",
              "    </tr>\n",
              "  </tbody>\n",
              "</table>\n",
              "</div>"
            ],
            "text/plain": [
              "            prcp         stp        smax  ...      wdsp       wdct      gust\n",
              "mdct                                      ...                               \n",
              "2008-01-01   0.0  532.554167  532.779167  ...  0.834783  63.625000  2.362500\n",
              "2008-01-02   0.0  532.979167  492.108333  ...  1.079167  65.416667  2.895833\n",
              "\n",
              "[2 rows x 17 columns]"
            ]
          },
          "metadata": {
            "tags": []
          },
          "execution_count": 259
        }
      ]
    },
    {
      "cell_type": "code",
      "metadata": {
        "id": "F8nZHpmSOP0I",
        "colab_type": "code",
        "colab": {}
      },
      "source": [
        ""
      ],
      "execution_count": 0,
      "outputs": []
    }
  ]
}